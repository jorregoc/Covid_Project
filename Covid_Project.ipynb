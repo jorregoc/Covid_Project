{
  "nbformat": 4,
  "nbformat_minor": 0,
  "metadata": {
    "colab": {
      "name": "Covid Project.ipynb",
      "provenance": [],
      "collapsed_sections": [
        "trq0rNGtZBdg",
        "mIUOP6EbGRIP",
        "M0Liut2NGdPi",
        "7yaha56PIGK1",
        "OdEHj_pVIpfi"
      ],
      "toc_visible": true,
      "authorship_tag": "ABX9TyMgfTvQ4434NETeGC/N2O/y",
      "include_colab_link": true
    },
    "kernelspec": {
      "name": "python3",
      "display_name": "Python 3"
    },
    "language_info": {
      "name": "python"
    }
  },
  "cells": [
    {
      "cell_type": "markdown",
      "metadata": {
        "id": "view-in-github",
        "colab_type": "text"
      },
      "source": [
        "<a href=\"https://colab.research.google.com/github/jorregoc/Covid_Project/blob/main/Covid_Project.ipynb\" target=\"_parent\"><img src=\"https://colab.research.google.com/assets/colab-badge.svg\" alt=\"Open In Colab\"/></a>"
      ]
    },
    {
      "cell_type": "markdown",
      "metadata": {
        "id": "0m9LMNlL3qae"
      },
      "source": [
        "#Covid Project"
      ]
    },
    {
      "cell_type": "markdown",
      "metadata": {
        "id": "vID32fQL3yAV"
      },
      "source": [
        "This project answers two questions: what has been the behavior of coronavirus cases and what are the variables that influence coronavirus deaths by continent. For that, coronavirus cases and deaths by continent with the complete Our World in Data COVID-19 dataset is explored. The results are presented in a Power BI and Google Data Studio dashboard.\n",
        "\n",
        "Update dataset link: https://github.com/owid/covid-19-data/tree/master/public/data\n",
        "\n",
        "Description and source for each variable in the dataset: https://github.com/owid/covid-19-data/blob/master/public/data/owid-covid-codebook.csv\n",
        "\n",
        "Author: Julian Orrego Castañeda\n",
        "\n",
        "Date: 4/6/2021"
      ]
    },
    {
      "cell_type": "code",
      "metadata": {
        "id": "S_TVG-aA2ZRR"
      },
      "source": [
        "import pandas as pd\n",
        "import numpy as np\n",
        "import matplotlib.pyplot as plt\n",
        "import timeit"
      ],
      "execution_count": 3,
      "outputs": []
    },
    {
      "cell_type": "code",
      "metadata": {
        "colab": {
          "base_uri": "https://localhost:8080/",
          "height": 299
        },
        "id": "ZyC-x_Ws2smQ",
        "outputId": "1b34c62b-dc7e-4838-f0eb-64954baee067"
      },
      "source": [
        "covid_data = pd.read_csv('covid-data.csv')\n",
        "pd.options.display.float_format = '{:.1f}'.format\n",
        "covid_data.head()"
      ],
      "execution_count": 4,
      "outputs": [
        {
          "output_type": "execute_result",
          "data": {
            "text/html": [
              "<div>\n",
              "<style scoped>\n",
              "    .dataframe tbody tr th:only-of-type {\n",
              "        vertical-align: middle;\n",
              "    }\n",
              "\n",
              "    .dataframe tbody tr th {\n",
              "        vertical-align: top;\n",
              "    }\n",
              "\n",
              "    .dataframe thead th {\n",
              "        text-align: right;\n",
              "    }\n",
              "</style>\n",
              "<table border=\"1\" class=\"dataframe\">\n",
              "  <thead>\n",
              "    <tr style=\"text-align: right;\">\n",
              "      <th></th>\n",
              "      <th>iso_code</th>\n",
              "      <th>continent</th>\n",
              "      <th>location</th>\n",
              "      <th>date</th>\n",
              "      <th>total_cases</th>\n",
              "      <th>new_cases</th>\n",
              "      <th>new_cases_smoothed</th>\n",
              "      <th>total_deaths</th>\n",
              "      <th>new_deaths</th>\n",
              "      <th>new_deaths_smoothed</th>\n",
              "      <th>total_cases_per_million</th>\n",
              "      <th>new_cases_per_million</th>\n",
              "      <th>new_cases_smoothed_per_million</th>\n",
              "      <th>total_deaths_per_million</th>\n",
              "      <th>new_deaths_per_million</th>\n",
              "      <th>new_deaths_smoothed_per_million</th>\n",
              "      <th>reproduction_rate</th>\n",
              "      <th>icu_patients</th>\n",
              "      <th>icu_patients_per_million</th>\n",
              "      <th>hosp_patients</th>\n",
              "      <th>hosp_patients_per_million</th>\n",
              "      <th>weekly_icu_admissions</th>\n",
              "      <th>weekly_icu_admissions_per_million</th>\n",
              "      <th>weekly_hosp_admissions</th>\n",
              "      <th>weekly_hosp_admissions_per_million</th>\n",
              "      <th>new_tests</th>\n",
              "      <th>total_tests</th>\n",
              "      <th>total_tests_per_thousand</th>\n",
              "      <th>new_tests_per_thousand</th>\n",
              "      <th>new_tests_smoothed</th>\n",
              "      <th>new_tests_smoothed_per_thousand</th>\n",
              "      <th>positive_rate</th>\n",
              "      <th>tests_per_case</th>\n",
              "      <th>tests_units</th>\n",
              "      <th>total_vaccinations</th>\n",
              "      <th>people_vaccinated</th>\n",
              "      <th>people_fully_vaccinated</th>\n",
              "      <th>new_vaccinations</th>\n",
              "      <th>new_vaccinations_smoothed</th>\n",
              "      <th>total_vaccinations_per_hundred</th>\n",
              "      <th>people_vaccinated_per_hundred</th>\n",
              "      <th>people_fully_vaccinated_per_hundred</th>\n",
              "      <th>new_vaccinations_smoothed_per_million</th>\n",
              "      <th>stringency_index</th>\n",
              "      <th>population</th>\n",
              "      <th>population_density</th>\n",
              "      <th>median_age</th>\n",
              "      <th>aged_65_older</th>\n",
              "      <th>aged_70_older</th>\n",
              "      <th>gdp_per_capita</th>\n",
              "      <th>extreme_poverty</th>\n",
              "      <th>cardiovasc_death_rate</th>\n",
              "      <th>diabetes_prevalence</th>\n",
              "      <th>female_smokers</th>\n",
              "      <th>male_smokers</th>\n",
              "      <th>handwashing_facilities</th>\n",
              "      <th>hospital_beds_per_thousand</th>\n",
              "      <th>life_expectancy</th>\n",
              "      <th>human_development_index</th>\n",
              "    </tr>\n",
              "  </thead>\n",
              "  <tbody>\n",
              "    <tr>\n",
              "      <th>0</th>\n",
              "      <td>AFG</td>\n",
              "      <td>Asia</td>\n",
              "      <td>Afghanistan</td>\n",
              "      <td>2020-02-24</td>\n",
              "      <td>1.0</td>\n",
              "      <td>1.0</td>\n",
              "      <td>nan</td>\n",
              "      <td>nan</td>\n",
              "      <td>nan</td>\n",
              "      <td>nan</td>\n",
              "      <td>0.0</td>\n",
              "      <td>0.0</td>\n",
              "      <td>nan</td>\n",
              "      <td>nan</td>\n",
              "      <td>nan</td>\n",
              "      <td>nan</td>\n",
              "      <td>nan</td>\n",
              "      <td>nan</td>\n",
              "      <td>nan</td>\n",
              "      <td>nan</td>\n",
              "      <td>nan</td>\n",
              "      <td>nan</td>\n",
              "      <td>nan</td>\n",
              "      <td>nan</td>\n",
              "      <td>nan</td>\n",
              "      <td>nan</td>\n",
              "      <td>nan</td>\n",
              "      <td>nan</td>\n",
              "      <td>nan</td>\n",
              "      <td>nan</td>\n",
              "      <td>nan</td>\n",
              "      <td>nan</td>\n",
              "      <td>nan</td>\n",
              "      <td>NaN</td>\n",
              "      <td>nan</td>\n",
              "      <td>nan</td>\n",
              "      <td>nan</td>\n",
              "      <td>nan</td>\n",
              "      <td>nan</td>\n",
              "      <td>nan</td>\n",
              "      <td>nan</td>\n",
              "      <td>nan</td>\n",
              "      <td>nan</td>\n",
              "      <td>8.3</td>\n",
              "      <td>38928341.0</td>\n",
              "      <td>54.4</td>\n",
              "      <td>18.6</td>\n",
              "      <td>2.6</td>\n",
              "      <td>1.3</td>\n",
              "      <td>1804.0</td>\n",
              "      <td>nan</td>\n",
              "      <td>597.0</td>\n",
              "      <td>9.6</td>\n",
              "      <td>nan</td>\n",
              "      <td>nan</td>\n",
              "      <td>37.7</td>\n",
              "      <td>0.5</td>\n",
              "      <td>64.8</td>\n",
              "      <td>0.5</td>\n",
              "    </tr>\n",
              "    <tr>\n",
              "      <th>1</th>\n",
              "      <td>AFG</td>\n",
              "      <td>Asia</td>\n",
              "      <td>Afghanistan</td>\n",
              "      <td>2020-02-25</td>\n",
              "      <td>1.0</td>\n",
              "      <td>0.0</td>\n",
              "      <td>nan</td>\n",
              "      <td>nan</td>\n",
              "      <td>nan</td>\n",
              "      <td>nan</td>\n",
              "      <td>0.0</td>\n",
              "      <td>0.0</td>\n",
              "      <td>nan</td>\n",
              "      <td>nan</td>\n",
              "      <td>nan</td>\n",
              "      <td>nan</td>\n",
              "      <td>nan</td>\n",
              "      <td>nan</td>\n",
              "      <td>nan</td>\n",
              "      <td>nan</td>\n",
              "      <td>nan</td>\n",
              "      <td>nan</td>\n",
              "      <td>nan</td>\n",
              "      <td>nan</td>\n",
              "      <td>nan</td>\n",
              "      <td>nan</td>\n",
              "      <td>nan</td>\n",
              "      <td>nan</td>\n",
              "      <td>nan</td>\n",
              "      <td>nan</td>\n",
              "      <td>nan</td>\n",
              "      <td>nan</td>\n",
              "      <td>nan</td>\n",
              "      <td>NaN</td>\n",
              "      <td>nan</td>\n",
              "      <td>nan</td>\n",
              "      <td>nan</td>\n",
              "      <td>nan</td>\n",
              "      <td>nan</td>\n",
              "      <td>nan</td>\n",
              "      <td>nan</td>\n",
              "      <td>nan</td>\n",
              "      <td>nan</td>\n",
              "      <td>8.3</td>\n",
              "      <td>38928341.0</td>\n",
              "      <td>54.4</td>\n",
              "      <td>18.6</td>\n",
              "      <td>2.6</td>\n",
              "      <td>1.3</td>\n",
              "      <td>1804.0</td>\n",
              "      <td>nan</td>\n",
              "      <td>597.0</td>\n",
              "      <td>9.6</td>\n",
              "      <td>nan</td>\n",
              "      <td>nan</td>\n",
              "      <td>37.7</td>\n",
              "      <td>0.5</td>\n",
              "      <td>64.8</td>\n",
              "      <td>0.5</td>\n",
              "    </tr>\n",
              "    <tr>\n",
              "      <th>2</th>\n",
              "      <td>AFG</td>\n",
              "      <td>Asia</td>\n",
              "      <td>Afghanistan</td>\n",
              "      <td>2020-02-26</td>\n",
              "      <td>1.0</td>\n",
              "      <td>0.0</td>\n",
              "      <td>nan</td>\n",
              "      <td>nan</td>\n",
              "      <td>nan</td>\n",
              "      <td>nan</td>\n",
              "      <td>0.0</td>\n",
              "      <td>0.0</td>\n",
              "      <td>nan</td>\n",
              "      <td>nan</td>\n",
              "      <td>nan</td>\n",
              "      <td>nan</td>\n",
              "      <td>nan</td>\n",
              "      <td>nan</td>\n",
              "      <td>nan</td>\n",
              "      <td>nan</td>\n",
              "      <td>nan</td>\n",
              "      <td>nan</td>\n",
              "      <td>nan</td>\n",
              "      <td>nan</td>\n",
              "      <td>nan</td>\n",
              "      <td>nan</td>\n",
              "      <td>nan</td>\n",
              "      <td>nan</td>\n",
              "      <td>nan</td>\n",
              "      <td>nan</td>\n",
              "      <td>nan</td>\n",
              "      <td>nan</td>\n",
              "      <td>nan</td>\n",
              "      <td>NaN</td>\n",
              "      <td>nan</td>\n",
              "      <td>nan</td>\n",
              "      <td>nan</td>\n",
              "      <td>nan</td>\n",
              "      <td>nan</td>\n",
              "      <td>nan</td>\n",
              "      <td>nan</td>\n",
              "      <td>nan</td>\n",
              "      <td>nan</td>\n",
              "      <td>8.3</td>\n",
              "      <td>38928341.0</td>\n",
              "      <td>54.4</td>\n",
              "      <td>18.6</td>\n",
              "      <td>2.6</td>\n",
              "      <td>1.3</td>\n",
              "      <td>1804.0</td>\n",
              "      <td>nan</td>\n",
              "      <td>597.0</td>\n",
              "      <td>9.6</td>\n",
              "      <td>nan</td>\n",
              "      <td>nan</td>\n",
              "      <td>37.7</td>\n",
              "      <td>0.5</td>\n",
              "      <td>64.8</td>\n",
              "      <td>0.5</td>\n",
              "    </tr>\n",
              "    <tr>\n",
              "      <th>3</th>\n",
              "      <td>AFG</td>\n",
              "      <td>Asia</td>\n",
              "      <td>Afghanistan</td>\n",
              "      <td>2020-02-27</td>\n",
              "      <td>1.0</td>\n",
              "      <td>0.0</td>\n",
              "      <td>nan</td>\n",
              "      <td>nan</td>\n",
              "      <td>nan</td>\n",
              "      <td>nan</td>\n",
              "      <td>0.0</td>\n",
              "      <td>0.0</td>\n",
              "      <td>nan</td>\n",
              "      <td>nan</td>\n",
              "      <td>nan</td>\n",
              "      <td>nan</td>\n",
              "      <td>nan</td>\n",
              "      <td>nan</td>\n",
              "      <td>nan</td>\n",
              "      <td>nan</td>\n",
              "      <td>nan</td>\n",
              "      <td>nan</td>\n",
              "      <td>nan</td>\n",
              "      <td>nan</td>\n",
              "      <td>nan</td>\n",
              "      <td>nan</td>\n",
              "      <td>nan</td>\n",
              "      <td>nan</td>\n",
              "      <td>nan</td>\n",
              "      <td>nan</td>\n",
              "      <td>nan</td>\n",
              "      <td>nan</td>\n",
              "      <td>nan</td>\n",
              "      <td>NaN</td>\n",
              "      <td>nan</td>\n",
              "      <td>nan</td>\n",
              "      <td>nan</td>\n",
              "      <td>nan</td>\n",
              "      <td>nan</td>\n",
              "      <td>nan</td>\n",
              "      <td>nan</td>\n",
              "      <td>nan</td>\n",
              "      <td>nan</td>\n",
              "      <td>8.3</td>\n",
              "      <td>38928341.0</td>\n",
              "      <td>54.4</td>\n",
              "      <td>18.6</td>\n",
              "      <td>2.6</td>\n",
              "      <td>1.3</td>\n",
              "      <td>1804.0</td>\n",
              "      <td>nan</td>\n",
              "      <td>597.0</td>\n",
              "      <td>9.6</td>\n",
              "      <td>nan</td>\n",
              "      <td>nan</td>\n",
              "      <td>37.7</td>\n",
              "      <td>0.5</td>\n",
              "      <td>64.8</td>\n",
              "      <td>0.5</td>\n",
              "    </tr>\n",
              "    <tr>\n",
              "      <th>4</th>\n",
              "      <td>AFG</td>\n",
              "      <td>Asia</td>\n",
              "      <td>Afghanistan</td>\n",
              "      <td>2020-02-28</td>\n",
              "      <td>1.0</td>\n",
              "      <td>0.0</td>\n",
              "      <td>nan</td>\n",
              "      <td>nan</td>\n",
              "      <td>nan</td>\n",
              "      <td>nan</td>\n",
              "      <td>0.0</td>\n",
              "      <td>0.0</td>\n",
              "      <td>nan</td>\n",
              "      <td>nan</td>\n",
              "      <td>nan</td>\n",
              "      <td>nan</td>\n",
              "      <td>nan</td>\n",
              "      <td>nan</td>\n",
              "      <td>nan</td>\n",
              "      <td>nan</td>\n",
              "      <td>nan</td>\n",
              "      <td>nan</td>\n",
              "      <td>nan</td>\n",
              "      <td>nan</td>\n",
              "      <td>nan</td>\n",
              "      <td>nan</td>\n",
              "      <td>nan</td>\n",
              "      <td>nan</td>\n",
              "      <td>nan</td>\n",
              "      <td>nan</td>\n",
              "      <td>nan</td>\n",
              "      <td>nan</td>\n",
              "      <td>nan</td>\n",
              "      <td>NaN</td>\n",
              "      <td>nan</td>\n",
              "      <td>nan</td>\n",
              "      <td>nan</td>\n",
              "      <td>nan</td>\n",
              "      <td>nan</td>\n",
              "      <td>nan</td>\n",
              "      <td>nan</td>\n",
              "      <td>nan</td>\n",
              "      <td>nan</td>\n",
              "      <td>8.3</td>\n",
              "      <td>38928341.0</td>\n",
              "      <td>54.4</td>\n",
              "      <td>18.6</td>\n",
              "      <td>2.6</td>\n",
              "      <td>1.3</td>\n",
              "      <td>1804.0</td>\n",
              "      <td>nan</td>\n",
              "      <td>597.0</td>\n",
              "      <td>9.6</td>\n",
              "      <td>nan</td>\n",
              "      <td>nan</td>\n",
              "      <td>37.7</td>\n",
              "      <td>0.5</td>\n",
              "      <td>64.8</td>\n",
              "      <td>0.5</td>\n",
              "    </tr>\n",
              "  </tbody>\n",
              "</table>\n",
              "</div>"
            ],
            "text/plain": [
              "  iso_code continent  ... life_expectancy human_development_index\n",
              "0      AFG      Asia  ...            64.8                     0.5\n",
              "1      AFG      Asia  ...            64.8                     0.5\n",
              "2      AFG      Asia  ...            64.8                     0.5\n",
              "3      AFG      Asia  ...            64.8                     0.5\n",
              "4      AFG      Asia  ...            64.8                     0.5\n",
              "\n",
              "[5 rows x 59 columns]"
            ]
          },
          "metadata": {
            "tags": []
          },
          "execution_count": 4
        }
      ]
    },
    {
      "cell_type": "code",
      "metadata": {
        "colab": {
          "base_uri": "https://localhost:8080/"
        },
        "id": "LvDvLJfqmkTc",
        "outputId": "42e954ac-a009-45dc-da27-faa837a2c2d0"
      },
      "source": [
        "covid_data.shape"
      ],
      "execution_count": 5,
      "outputs": [
        {
          "output_type": "execute_result",
          "data": {
            "text/plain": [
              "(93326, 59)"
            ]
          },
          "metadata": {
            "tags": []
          },
          "execution_count": 5
        }
      ]
    },
    {
      "cell_type": "code",
      "metadata": {
        "colab": {
          "base_uri": "https://localhost:8080/"
        },
        "id": "Y8nOQLpTaE3G",
        "outputId": "9cac713a-f715-4afc-e79a-db10c1aa1c95"
      },
      "source": [
        "covid_data.columns"
      ],
      "execution_count": 6,
      "outputs": [
        {
          "output_type": "execute_result",
          "data": {
            "text/plain": [
              "Index(['iso_code', 'continent', 'location', 'date', 'total_cases', 'new_cases',\n",
              "       'new_cases_smoothed', 'total_deaths', 'new_deaths',\n",
              "       'new_deaths_smoothed', 'total_cases_per_million',\n",
              "       'new_cases_per_million', 'new_cases_smoothed_per_million',\n",
              "       'total_deaths_per_million', 'new_deaths_per_million',\n",
              "       'new_deaths_smoothed_per_million', 'reproduction_rate', 'icu_patients',\n",
              "       'icu_patients_per_million', 'hosp_patients',\n",
              "       'hosp_patients_per_million', 'weekly_icu_admissions',\n",
              "       'weekly_icu_admissions_per_million', 'weekly_hosp_admissions',\n",
              "       'weekly_hosp_admissions_per_million', 'new_tests', 'total_tests',\n",
              "       'total_tests_per_thousand', 'new_tests_per_thousand',\n",
              "       'new_tests_smoothed', 'new_tests_smoothed_per_thousand',\n",
              "       'positive_rate', 'tests_per_case', 'tests_units', 'total_vaccinations',\n",
              "       'people_vaccinated', 'people_fully_vaccinated', 'new_vaccinations',\n",
              "       'new_vaccinations_smoothed', 'total_vaccinations_per_hundred',\n",
              "       'people_vaccinated_per_hundred', 'people_fully_vaccinated_per_hundred',\n",
              "       'new_vaccinations_smoothed_per_million', 'stringency_index',\n",
              "       'population', 'population_density', 'median_age', 'aged_65_older',\n",
              "       'aged_70_older', 'gdp_per_capita', 'extreme_poverty',\n",
              "       'cardiovasc_death_rate', 'diabetes_prevalence', 'female_smokers',\n",
              "       'male_smokers', 'handwashing_facilities', 'hospital_beds_per_thousand',\n",
              "       'life_expectancy', 'human_development_index'],\n",
              "      dtype='object')"
            ]
          },
          "metadata": {
            "tags": []
          },
          "execution_count": 6
        }
      ]
    },
    {
      "cell_type": "code",
      "metadata": {
        "colab": {
          "base_uri": "https://localhost:8080/",
          "height": 299
        },
        "id": "CHAkvs3OaC8v",
        "outputId": "24299310-db0f-4fe2-b5ec-8e2a7a413b6b"
      },
      "source": [
        "covid_data_copy = covid_data[['continent','location','date','population','total_cases','new_cases','total_deaths', 'new_deaths','total_cases_per_million',\n",
        "       'new_cases_per_million','total_deaths_per_million','new_deaths_per_million','median_age', 'aged_65_older',\n",
        "       'aged_70_older','cardiovasc_death_rate', 'diabetes_prevalence','handwashing_facilities', 'hospital_beds_per_thousand']]\n",
        "\n",
        "covid_data_copy.head()"
      ],
      "execution_count": 7,
      "outputs": [
        {
          "output_type": "execute_result",
          "data": {
            "text/html": [
              "<div>\n",
              "<style scoped>\n",
              "    .dataframe tbody tr th:only-of-type {\n",
              "        vertical-align: middle;\n",
              "    }\n",
              "\n",
              "    .dataframe tbody tr th {\n",
              "        vertical-align: top;\n",
              "    }\n",
              "\n",
              "    .dataframe thead th {\n",
              "        text-align: right;\n",
              "    }\n",
              "</style>\n",
              "<table border=\"1\" class=\"dataframe\">\n",
              "  <thead>\n",
              "    <tr style=\"text-align: right;\">\n",
              "      <th></th>\n",
              "      <th>continent</th>\n",
              "      <th>location</th>\n",
              "      <th>date</th>\n",
              "      <th>population</th>\n",
              "      <th>total_cases</th>\n",
              "      <th>new_cases</th>\n",
              "      <th>total_deaths</th>\n",
              "      <th>new_deaths</th>\n",
              "      <th>total_cases_per_million</th>\n",
              "      <th>new_cases_per_million</th>\n",
              "      <th>total_deaths_per_million</th>\n",
              "      <th>new_deaths_per_million</th>\n",
              "      <th>median_age</th>\n",
              "      <th>aged_65_older</th>\n",
              "      <th>aged_70_older</th>\n",
              "      <th>cardiovasc_death_rate</th>\n",
              "      <th>diabetes_prevalence</th>\n",
              "      <th>handwashing_facilities</th>\n",
              "      <th>hospital_beds_per_thousand</th>\n",
              "    </tr>\n",
              "  </thead>\n",
              "  <tbody>\n",
              "    <tr>\n",
              "      <th>0</th>\n",
              "      <td>Asia</td>\n",
              "      <td>Afghanistan</td>\n",
              "      <td>2020-02-24</td>\n",
              "      <td>38928341.0</td>\n",
              "      <td>1.0</td>\n",
              "      <td>1.0</td>\n",
              "      <td>nan</td>\n",
              "      <td>nan</td>\n",
              "      <td>0.0</td>\n",
              "      <td>0.0</td>\n",
              "      <td>nan</td>\n",
              "      <td>nan</td>\n",
              "      <td>18.6</td>\n",
              "      <td>2.6</td>\n",
              "      <td>1.3</td>\n",
              "      <td>597.0</td>\n",
              "      <td>9.6</td>\n",
              "      <td>37.7</td>\n",
              "      <td>0.5</td>\n",
              "    </tr>\n",
              "    <tr>\n",
              "      <th>1</th>\n",
              "      <td>Asia</td>\n",
              "      <td>Afghanistan</td>\n",
              "      <td>2020-02-25</td>\n",
              "      <td>38928341.0</td>\n",
              "      <td>1.0</td>\n",
              "      <td>0.0</td>\n",
              "      <td>nan</td>\n",
              "      <td>nan</td>\n",
              "      <td>0.0</td>\n",
              "      <td>0.0</td>\n",
              "      <td>nan</td>\n",
              "      <td>nan</td>\n",
              "      <td>18.6</td>\n",
              "      <td>2.6</td>\n",
              "      <td>1.3</td>\n",
              "      <td>597.0</td>\n",
              "      <td>9.6</td>\n",
              "      <td>37.7</td>\n",
              "      <td>0.5</td>\n",
              "    </tr>\n",
              "    <tr>\n",
              "      <th>2</th>\n",
              "      <td>Asia</td>\n",
              "      <td>Afghanistan</td>\n",
              "      <td>2020-02-26</td>\n",
              "      <td>38928341.0</td>\n",
              "      <td>1.0</td>\n",
              "      <td>0.0</td>\n",
              "      <td>nan</td>\n",
              "      <td>nan</td>\n",
              "      <td>0.0</td>\n",
              "      <td>0.0</td>\n",
              "      <td>nan</td>\n",
              "      <td>nan</td>\n",
              "      <td>18.6</td>\n",
              "      <td>2.6</td>\n",
              "      <td>1.3</td>\n",
              "      <td>597.0</td>\n",
              "      <td>9.6</td>\n",
              "      <td>37.7</td>\n",
              "      <td>0.5</td>\n",
              "    </tr>\n",
              "    <tr>\n",
              "      <th>3</th>\n",
              "      <td>Asia</td>\n",
              "      <td>Afghanistan</td>\n",
              "      <td>2020-02-27</td>\n",
              "      <td>38928341.0</td>\n",
              "      <td>1.0</td>\n",
              "      <td>0.0</td>\n",
              "      <td>nan</td>\n",
              "      <td>nan</td>\n",
              "      <td>0.0</td>\n",
              "      <td>0.0</td>\n",
              "      <td>nan</td>\n",
              "      <td>nan</td>\n",
              "      <td>18.6</td>\n",
              "      <td>2.6</td>\n",
              "      <td>1.3</td>\n",
              "      <td>597.0</td>\n",
              "      <td>9.6</td>\n",
              "      <td>37.7</td>\n",
              "      <td>0.5</td>\n",
              "    </tr>\n",
              "    <tr>\n",
              "      <th>4</th>\n",
              "      <td>Asia</td>\n",
              "      <td>Afghanistan</td>\n",
              "      <td>2020-02-28</td>\n",
              "      <td>38928341.0</td>\n",
              "      <td>1.0</td>\n",
              "      <td>0.0</td>\n",
              "      <td>nan</td>\n",
              "      <td>nan</td>\n",
              "      <td>0.0</td>\n",
              "      <td>0.0</td>\n",
              "      <td>nan</td>\n",
              "      <td>nan</td>\n",
              "      <td>18.6</td>\n",
              "      <td>2.6</td>\n",
              "      <td>1.3</td>\n",
              "      <td>597.0</td>\n",
              "      <td>9.6</td>\n",
              "      <td>37.7</td>\n",
              "      <td>0.5</td>\n",
              "    </tr>\n",
              "  </tbody>\n",
              "</table>\n",
              "</div>"
            ],
            "text/plain": [
              "  continent     location  ... handwashing_facilities  hospital_beds_per_thousand\n",
              "0      Asia  Afghanistan  ...                   37.7                         0.5\n",
              "1      Asia  Afghanistan  ...                   37.7                         0.5\n",
              "2      Asia  Afghanistan  ...                   37.7                         0.5\n",
              "3      Asia  Afghanistan  ...                   37.7                         0.5\n",
              "4      Asia  Afghanistan  ...                   37.7                         0.5\n",
              "\n",
              "[5 rows x 19 columns]"
            ]
          },
          "metadata": {
            "tags": []
          },
          "execution_count": 7
        }
      ]
    },
    {
      "cell_type": "markdown",
      "metadata": {
        "id": "dC4hsPT4NPRZ"
      },
      "source": [
        "###Covid Cases"
      ]
    },
    {
      "cell_type": "code",
      "metadata": {
        "colab": {
          "base_uri": "https://localhost:8080/",
          "height": 402
        },
        "id": "tpjKLLqzNURS",
        "outputId": "6e968d72-745d-4db8-915f-b840b7b646c5"
      },
      "source": [
        "covid_cases = covid_data_copy.copy(deep=True)\n",
        "covid_cases = covid_cases[['location','date','total_cases_per_million']]\n",
        "covid_cases"
      ],
      "execution_count": 8,
      "outputs": [
        {
          "output_type": "execute_result",
          "data": {
            "text/html": [
              "<div>\n",
              "<style scoped>\n",
              "    .dataframe tbody tr th:only-of-type {\n",
              "        vertical-align: middle;\n",
              "    }\n",
              "\n",
              "    .dataframe tbody tr th {\n",
              "        vertical-align: top;\n",
              "    }\n",
              "\n",
              "    .dataframe thead th {\n",
              "        text-align: right;\n",
              "    }\n",
              "</style>\n",
              "<table border=\"1\" class=\"dataframe\">\n",
              "  <thead>\n",
              "    <tr style=\"text-align: right;\">\n",
              "      <th></th>\n",
              "      <th>location</th>\n",
              "      <th>date</th>\n",
              "      <th>total_cases_per_million</th>\n",
              "    </tr>\n",
              "  </thead>\n",
              "  <tbody>\n",
              "    <tr>\n",
              "      <th>0</th>\n",
              "      <td>Afghanistan</td>\n",
              "      <td>2020-02-24</td>\n",
              "      <td>0.0</td>\n",
              "    </tr>\n",
              "    <tr>\n",
              "      <th>1</th>\n",
              "      <td>Afghanistan</td>\n",
              "      <td>2020-02-25</td>\n",
              "      <td>0.0</td>\n",
              "    </tr>\n",
              "    <tr>\n",
              "      <th>2</th>\n",
              "      <td>Afghanistan</td>\n",
              "      <td>2020-02-26</td>\n",
              "      <td>0.0</td>\n",
              "    </tr>\n",
              "    <tr>\n",
              "      <th>3</th>\n",
              "      <td>Afghanistan</td>\n",
              "      <td>2020-02-27</td>\n",
              "      <td>0.0</td>\n",
              "    </tr>\n",
              "    <tr>\n",
              "      <th>4</th>\n",
              "      <td>Afghanistan</td>\n",
              "      <td>2020-02-28</td>\n",
              "      <td>0.0</td>\n",
              "    </tr>\n",
              "    <tr>\n",
              "      <th>...</th>\n",
              "      <td>...</td>\n",
              "      <td>...</td>\n",
              "      <td>...</td>\n",
              "    </tr>\n",
              "    <tr>\n",
              "      <th>93321</th>\n",
              "      <td>Zimbabwe</td>\n",
              "      <td>2021-05-30</td>\n",
              "      <td>2620.2</td>\n",
              "    </tr>\n",
              "    <tr>\n",
              "      <th>93322</th>\n",
              "      <td>Zimbabwe</td>\n",
              "      <td>2021-05-31</td>\n",
              "      <td>2621.4</td>\n",
              "    </tr>\n",
              "    <tr>\n",
              "      <th>93323</th>\n",
              "      <td>Zimbabwe</td>\n",
              "      <td>2021-06-01</td>\n",
              "      <td>2623.8</td>\n",
              "    </tr>\n",
              "    <tr>\n",
              "      <th>93324</th>\n",
              "      <td>Zimbabwe</td>\n",
              "      <td>2021-06-02</td>\n",
              "      <td>2626.1</td>\n",
              "    </tr>\n",
              "    <tr>\n",
              "      <th>93325</th>\n",
              "      <td>Zimbabwe</td>\n",
              "      <td>2021-06-03</td>\n",
              "      <td>2630.2</td>\n",
              "    </tr>\n",
              "  </tbody>\n",
              "</table>\n",
              "<p>93326 rows × 3 columns</p>\n",
              "</div>"
            ],
            "text/plain": [
              "          location        date  total_cases_per_million\n",
              "0      Afghanistan  2020-02-24                      0.0\n",
              "1      Afghanistan  2020-02-25                      0.0\n",
              "2      Afghanistan  2020-02-26                      0.0\n",
              "3      Afghanistan  2020-02-27                      0.0\n",
              "4      Afghanistan  2020-02-28                      0.0\n",
              "...            ...         ...                      ...\n",
              "93321     Zimbabwe  2021-05-30                   2620.2\n",
              "93322     Zimbabwe  2021-05-31                   2621.4\n",
              "93323     Zimbabwe  2021-06-01                   2623.8\n",
              "93324     Zimbabwe  2021-06-02                   2626.1\n",
              "93325     Zimbabwe  2021-06-03                   2630.2\n",
              "\n",
              "[93326 rows x 3 columns]"
            ]
          },
          "metadata": {
            "tags": []
          },
          "execution_count": 8
        }
      ]
    },
    {
      "cell_type": "code",
      "metadata": {
        "colab": {
          "base_uri": "https://localhost:8080/"
        },
        "id": "A_TAVsrpOJOP",
        "outputId": "45b07295-79fe-415b-f7b1-712e2042c9df"
      },
      "source": [
        "covid_cases.dtypes"
      ],
      "execution_count": 9,
      "outputs": [
        {
          "output_type": "execute_result",
          "data": {
            "text/plain": [
              "location                    object\n",
              "date                        object\n",
              "total_cases_per_million    float64\n",
              "dtype: object"
            ]
          },
          "metadata": {
            "tags": []
          },
          "execution_count": 9
        }
      ]
    },
    {
      "cell_type": "code",
      "metadata": {
        "id": "8_9zV_e4PFVy"
      },
      "source": [
        "covid_cases['date'] = pd.to_datetime(covid_cases['date'])"
      ],
      "execution_count": 10,
      "outputs": []
    },
    {
      "cell_type": "code",
      "metadata": {
        "colab": {
          "base_uri": "https://localhost:8080/",
          "height": 408
        },
        "id": "k2ckPaZYhdJU",
        "outputId": "af9b196a-e64a-4c36-f03f-599a9ac278f0"
      },
      "source": [
        "cases_by_time = covid_cases.pivot(index= 'date', columns= 'location', values= 'total_cases_per_million')\n",
        "cases_by_time.tail()"
      ],
      "execution_count": 11,
      "outputs": [
        {
          "output_type": "execute_result",
          "data": {
            "text/html": [
              "<div>\n",
              "<style scoped>\n",
              "    .dataframe tbody tr th:only-of-type {\n",
              "        vertical-align: middle;\n",
              "    }\n",
              "\n",
              "    .dataframe tbody tr th {\n",
              "        vertical-align: top;\n",
              "    }\n",
              "\n",
              "    .dataframe thead th {\n",
              "        text-align: right;\n",
              "    }\n",
              "</style>\n",
              "<table border=\"1\" class=\"dataframe\">\n",
              "  <thead>\n",
              "    <tr style=\"text-align: right;\">\n",
              "      <th>location</th>\n",
              "      <th>Afghanistan</th>\n",
              "      <th>Africa</th>\n",
              "      <th>Albania</th>\n",
              "      <th>Algeria</th>\n",
              "      <th>Andorra</th>\n",
              "      <th>Angola</th>\n",
              "      <th>Anguilla</th>\n",
              "      <th>Antigua and Barbuda</th>\n",
              "      <th>Argentina</th>\n",
              "      <th>Armenia</th>\n",
              "      <th>Aruba</th>\n",
              "      <th>Asia</th>\n",
              "      <th>Australia</th>\n",
              "      <th>Austria</th>\n",
              "      <th>Azerbaijan</th>\n",
              "      <th>Bahamas</th>\n",
              "      <th>Bahrain</th>\n",
              "      <th>Bangladesh</th>\n",
              "      <th>Barbados</th>\n",
              "      <th>Belarus</th>\n",
              "      <th>Belgium</th>\n",
              "      <th>Belize</th>\n",
              "      <th>Benin</th>\n",
              "      <th>Bermuda</th>\n",
              "      <th>Bhutan</th>\n",
              "      <th>Bolivia</th>\n",
              "      <th>Bonaire Sint Eustatius and Saba</th>\n",
              "      <th>Bosnia and Herzegovina</th>\n",
              "      <th>Botswana</th>\n",
              "      <th>Brazil</th>\n",
              "      <th>British Virgin Islands</th>\n",
              "      <th>Brunei</th>\n",
              "      <th>Bulgaria</th>\n",
              "      <th>Burkina Faso</th>\n",
              "      <th>Burundi</th>\n",
              "      <th>Cambodia</th>\n",
              "      <th>Cameroon</th>\n",
              "      <th>Canada</th>\n",
              "      <th>Cape Verde</th>\n",
              "      <th>Cayman Islands</th>\n",
              "      <th>...</th>\n",
              "      <th>South Africa</th>\n",
              "      <th>South America</th>\n",
              "      <th>South Korea</th>\n",
              "      <th>South Sudan</th>\n",
              "      <th>Spain</th>\n",
              "      <th>Sri Lanka</th>\n",
              "      <th>Sudan</th>\n",
              "      <th>Suriname</th>\n",
              "      <th>Sweden</th>\n",
              "      <th>Switzerland</th>\n",
              "      <th>Syria</th>\n",
              "      <th>Taiwan</th>\n",
              "      <th>Tajikistan</th>\n",
              "      <th>Tanzania</th>\n",
              "      <th>Thailand</th>\n",
              "      <th>Timor</th>\n",
              "      <th>Togo</th>\n",
              "      <th>Tonga</th>\n",
              "      <th>Trinidad and Tobago</th>\n",
              "      <th>Tunisia</th>\n",
              "      <th>Turkey</th>\n",
              "      <th>Turkmenistan</th>\n",
              "      <th>Turks and Caicos Islands</th>\n",
              "      <th>Tuvalu</th>\n",
              "      <th>Uganda</th>\n",
              "      <th>Ukraine</th>\n",
              "      <th>United Arab Emirates</th>\n",
              "      <th>United Kingdom</th>\n",
              "      <th>United States</th>\n",
              "      <th>Uruguay</th>\n",
              "      <th>Uzbekistan</th>\n",
              "      <th>Vanuatu</th>\n",
              "      <th>Vatican</th>\n",
              "      <th>Venezuela</th>\n",
              "      <th>Vietnam</th>\n",
              "      <th>Wallis and Futuna</th>\n",
              "      <th>World</th>\n",
              "      <th>Yemen</th>\n",
              "      <th>Zambia</th>\n",
              "      <th>Zimbabwe</th>\n",
              "    </tr>\n",
              "    <tr>\n",
              "      <th>date</th>\n",
              "      <th></th>\n",
              "      <th></th>\n",
              "      <th></th>\n",
              "      <th></th>\n",
              "      <th></th>\n",
              "      <th></th>\n",
              "      <th></th>\n",
              "      <th></th>\n",
              "      <th></th>\n",
              "      <th></th>\n",
              "      <th></th>\n",
              "      <th></th>\n",
              "      <th></th>\n",
              "      <th></th>\n",
              "      <th></th>\n",
              "      <th></th>\n",
              "      <th></th>\n",
              "      <th></th>\n",
              "      <th></th>\n",
              "      <th></th>\n",
              "      <th></th>\n",
              "      <th></th>\n",
              "      <th></th>\n",
              "      <th></th>\n",
              "      <th></th>\n",
              "      <th></th>\n",
              "      <th></th>\n",
              "      <th></th>\n",
              "      <th></th>\n",
              "      <th></th>\n",
              "      <th></th>\n",
              "      <th></th>\n",
              "      <th></th>\n",
              "      <th></th>\n",
              "      <th></th>\n",
              "      <th></th>\n",
              "      <th></th>\n",
              "      <th></th>\n",
              "      <th></th>\n",
              "      <th></th>\n",
              "      <th></th>\n",
              "      <th></th>\n",
              "      <th></th>\n",
              "      <th></th>\n",
              "      <th></th>\n",
              "      <th></th>\n",
              "      <th></th>\n",
              "      <th></th>\n",
              "      <th></th>\n",
              "      <th></th>\n",
              "      <th></th>\n",
              "      <th></th>\n",
              "      <th></th>\n",
              "      <th></th>\n",
              "      <th></th>\n",
              "      <th></th>\n",
              "      <th></th>\n",
              "      <th></th>\n",
              "      <th></th>\n",
              "      <th></th>\n",
              "      <th></th>\n",
              "      <th></th>\n",
              "      <th></th>\n",
              "      <th></th>\n",
              "      <th></th>\n",
              "      <th></th>\n",
              "      <th></th>\n",
              "      <th></th>\n",
              "      <th></th>\n",
              "      <th></th>\n",
              "      <th></th>\n",
              "      <th></th>\n",
              "      <th></th>\n",
              "      <th></th>\n",
              "      <th></th>\n",
              "      <th></th>\n",
              "      <th></th>\n",
              "      <th></th>\n",
              "      <th></th>\n",
              "      <th></th>\n",
              "      <th></th>\n",
              "    </tr>\n",
              "  </thead>\n",
              "  <tbody>\n",
              "    <tr>\n",
              "      <th>2021-05-31</th>\n",
              "      <td>1845.4</td>\n",
              "      <td>3610.7</td>\n",
              "      <td>45977.8</td>\n",
              "      <td>2939.8</td>\n",
              "      <td>177661.3</td>\n",
              "      <td>1051.3</td>\n",
              "      <td>nan</td>\n",
              "      <td>12866.6</td>\n",
              "      <td>83675.6</td>\n",
              "      <td>75144.3</td>\n",
              "      <td>nan</td>\n",
              "      <td>11049.0</td>\n",
              "      <td>1181.1</td>\n",
              "      <td>71595.2</td>\n",
              "      <td>32937.2</td>\n",
              "      <td>29996.3</td>\n",
              "      <td>141357.2</td>\n",
              "      <td>4860.9</td>\n",
              "      <td>13978.4</td>\n",
              "      <td>41742.6</td>\n",
              "      <td>91633.8</td>\n",
              "      <td>32214.1</td>\n",
              "      <td>664.7</td>\n",
              "      <td>nan</td>\n",
              "      <td>2099.5</td>\n",
              "      <td>31806.6</td>\n",
              "      <td>nan</td>\n",
              "      <td>62183.3</td>\n",
              "      <td>23376.6</td>\n",
              "      <td>77839.7</td>\n",
              "      <td>nan</td>\n",
              "      <td>553.2</td>\n",
              "      <td>60240.4</td>\n",
              "      <td>642.7</td>\n",
              "      <td>402.8</td>\n",
              "      <td>1800.0</td>\n",
              "      <td>2973.3</td>\n",
              "      <td>36811.0</td>\n",
              "      <td>54747.6</td>\n",
              "      <td>nan</td>\n",
              "      <td>...</td>\n",
              "      <td>28083.9</td>\n",
              "      <td>66828.2</td>\n",
              "      <td>2746.3</td>\n",
              "      <td>954.8</td>\n",
              "      <td>78674.1</td>\n",
              "      <td>8703.2</td>\n",
              "      <td>809.5</td>\n",
              "      <td>25491.2</td>\n",
              "      <td>105797.1</td>\n",
              "      <td>80273.9</td>\n",
              "      <td>1399.7</td>\n",
              "      <td>357.4</td>\n",
              "      <td>1395.3</td>\n",
              "      <td>8.5</td>\n",
              "      <td>2289.3</td>\n",
              "      <td>5304.7</td>\n",
              "      <td>1626.6</td>\n",
              "      <td>nan</td>\n",
              "      <td>17084.1</td>\n",
              "      <td>29231.3</td>\n",
              "      <td>62241.7</td>\n",
              "      <td>nan</td>\n",
              "      <td>nan</td>\n",
              "      <td>nan</td>\n",
              "      <td>1030.7</td>\n",
              "      <td>51696.9</td>\n",
              "      <td>57716.2</td>\n",
              "      <td>66335.2</td>\n",
              "      <td>100505.3</td>\n",
              "      <td>84780.1</td>\n",
              "      <td>2997.8</td>\n",
              "      <td>13.0</td>\n",
              "      <td>33374.5</td>\n",
              "      <td>8234.8</td>\n",
              "      <td>76.4</td>\n",
              "      <td>nan</td>\n",
              "      <td>21903.2</td>\n",
              "      <td>226.0</td>\n",
              "      <td>5181.9</td>\n",
              "      <td>2621.4</td>\n",
              "    </tr>\n",
              "    <tr>\n",
              "      <th>2021-06-01</th>\n",
              "      <td>1874.7</td>\n",
              "      <td>3618.1</td>\n",
              "      <td>45985.5</td>\n",
              "      <td>2946.7</td>\n",
              "      <td>177687.2</td>\n",
              "      <td>1057.4</td>\n",
              "      <td>nan</td>\n",
              "      <td>12866.6</td>\n",
              "      <td>84457.9</td>\n",
              "      <td>75180.7</td>\n",
              "      <td>nan</td>\n",
              "      <td>11093.8</td>\n",
              "      <td>1181.3</td>\n",
              "      <td>71632.6</td>\n",
              "      <td>32954.6</td>\n",
              "      <td>29996.3</td>\n",
              "      <td>142684.8</td>\n",
              "      <td>4871.6</td>\n",
              "      <td>13978.4</td>\n",
              "      <td>41809.9</td>\n",
              "      <td>91763.1</td>\n",
              "      <td>32239.2</td>\n",
              "      <td>664.7</td>\n",
              "      <td>nan</td>\n",
              "      <td>2115.1</td>\n",
              "      <td>32101.2</td>\n",
              "      <td>nan</td>\n",
              "      <td>62208.0</td>\n",
              "      <td>23376.6</td>\n",
              "      <td>78211.0</td>\n",
              "      <td>nan</td>\n",
              "      <td>557.7</td>\n",
              "      <td>60274.3</td>\n",
              "      <td>642.7</td>\n",
              "      <td>403.9</td>\n",
              "      <td>1836.8</td>\n",
              "      <td>2973.3</td>\n",
              "      <td>36854.8</td>\n",
              "      <td>54898.7</td>\n",
              "      <td>nan</td>\n",
              "      <td>...</td>\n",
              "      <td>28144.8</td>\n",
              "      <td>67196.0</td>\n",
              "      <td>2759.5</td>\n",
              "      <td>954.8</td>\n",
              "      <td>78767.9</td>\n",
              "      <td>8837.6</td>\n",
              "      <td>809.9</td>\n",
              "      <td>25787.8</td>\n",
              "      <td>105797.1</td>\n",
              "      <td>80361.3</td>\n",
              "      <td>1401.6</td>\n",
              "      <td>371.3</td>\n",
              "      <td>1395.3</td>\n",
              "      <td>8.5</td>\n",
              "      <td>2321.2</td>\n",
              "      <td>5431.4</td>\n",
              "      <td>1628.4</td>\n",
              "      <td>nan</td>\n",
              "      <td>17373.5</td>\n",
              "      <td>29359.3</td>\n",
              "      <td>62326.0</td>\n",
              "      <td>nan</td>\n",
              "      <td>nan</td>\n",
              "      <td>nan</td>\n",
              "      <td>1044.2</td>\n",
              "      <td>51748.7</td>\n",
              "      <td>57915.2</td>\n",
              "      <td>66380.9</td>\n",
              "      <td>100574.6</td>\n",
              "      <td>85788.5</td>\n",
              "      <td>3002.6</td>\n",
              "      <td>13.0</td>\n",
              "      <td>33374.5</td>\n",
              "      <td>8284.1</td>\n",
              "      <td>78.3</td>\n",
              "      <td>nan</td>\n",
              "      <td>21962.7</td>\n",
              "      <td>226.3</td>\n",
              "      <td>5212.2</td>\n",
              "      <td>2623.8</td>\n",
              "    </tr>\n",
              "    <tr>\n",
              "      <th>2021-06-02</th>\n",
              "      <td>1901.6</td>\n",
              "      <td>3624.1</td>\n",
              "      <td>45990.3</td>\n",
              "      <td>2956.4</td>\n",
              "      <td>177881.3</td>\n",
              "      <td>1063.7</td>\n",
              "      <td>nan</td>\n",
              "      <td>12887.0</td>\n",
              "      <td>85232.7</td>\n",
              "      <td>75211.7</td>\n",
              "      <td>nan</td>\n",
              "      <td>11139.2</td>\n",
              "      <td>1181.8</td>\n",
              "      <td>71677.0</td>\n",
              "      <td>32969.9</td>\n",
              "      <td>30169.3</td>\n",
              "      <td>143822.5</td>\n",
              "      <td>4883.7</td>\n",
              "      <td>13999.3</td>\n",
              "      <td>41906.7</td>\n",
              "      <td>91923.5</td>\n",
              "      <td>32274.5</td>\n",
              "      <td>666.7</td>\n",
              "      <td>nan</td>\n",
              "      <td>2124.1</td>\n",
              "      <td>32384.7</td>\n",
              "      <td>nan</td>\n",
              "      <td>62232.1</td>\n",
              "      <td>23376.6</td>\n",
              "      <td>78660.7</td>\n",
              "      <td>nan</td>\n",
              "      <td>557.7</td>\n",
              "      <td>60302.7</td>\n",
              "      <td>642.7</td>\n",
              "      <td>406.0</td>\n",
              "      <td>1881.7</td>\n",
              "      <td>2973.3</td>\n",
              "      <td>36912.6</td>\n",
              "      <td>55206.2</td>\n",
              "      <td>nan</td>\n",
              "      <td>...</td>\n",
              "      <td>28144.8</td>\n",
              "      <td>67627.9</td>\n",
              "      <td>2772.8</td>\n",
              "      <td>954.8</td>\n",
              "      <td>78874.5</td>\n",
              "      <td>8992.0</td>\n",
              "      <td>810.4</td>\n",
              "      <td>26299.2</td>\n",
              "      <td>105797.1</td>\n",
              "      <td>80444.1</td>\n",
              "      <td>1403.3</td>\n",
              "      <td>394.2</td>\n",
              "      <td>1395.3</td>\n",
              "      <td>8.5</td>\n",
              "      <td>2370.5</td>\n",
              "      <td>5544.4</td>\n",
              "      <td>1630.2</td>\n",
              "      <td>nan</td>\n",
              "      <td>17667.9</td>\n",
              "      <td>29522.1</td>\n",
              "      <td>62411.1</td>\n",
              "      <td>nan</td>\n",
              "      <td>nan</td>\n",
              "      <td>nan</td>\n",
              "      <td>1064.2</td>\n",
              "      <td>51802.1</td>\n",
              "      <td>58132.9</td>\n",
              "      <td>66443.7</td>\n",
              "      <td>100625.7</td>\n",
              "      <td>86801.3</td>\n",
              "      <td>3009.5</td>\n",
              "      <td>13.0</td>\n",
              "      <td>33374.5</td>\n",
              "      <td>8325.9</td>\n",
              "      <td>80.9</td>\n",
              "      <td>nan</td>\n",
              "      <td>22024.2</td>\n",
              "      <td>226.6</td>\n",
              "      <td>5252.6</td>\n",
              "      <td>2626.1</td>\n",
              "    </tr>\n",
              "    <tr>\n",
              "      <th>2021-06-03</th>\n",
              "      <td>1929.7</td>\n",
              "      <td>3631.0</td>\n",
              "      <td>45993.5</td>\n",
              "      <td>2964.0</td>\n",
              "      <td>177984.9</td>\n",
              "      <td>1069.2</td>\n",
              "      <td>nan</td>\n",
              "      <td>12887.0</td>\n",
              "      <td>85947.1</td>\n",
              "      <td>75248.2</td>\n",
              "      <td>nan</td>\n",
              "      <td>11184.9</td>\n",
              "      <td>1182.0</td>\n",
              "      <td>71708.3</td>\n",
              "      <td>32982.6</td>\n",
              "      <td>30337.1</td>\n",
              "      <td>144958.0</td>\n",
              "      <td>4893.9</td>\n",
              "      <td>14009.8</td>\n",
              "      <td>41999.7</td>\n",
              "      <td>92061.5</td>\n",
              "      <td>32292.1</td>\n",
              "      <td>666.7</td>\n",
              "      <td>nan</td>\n",
              "      <td>2143.6</td>\n",
              "      <td>32592.8</td>\n",
              "      <td>nan</td>\n",
              "      <td>62256.5</td>\n",
              "      <td>23905.6</td>\n",
              "      <td>79053.1</td>\n",
              "      <td>nan</td>\n",
              "      <td>557.7</td>\n",
              "      <td>60327.2</td>\n",
              "      <td>643.2</td>\n",
              "      <td>407.4</td>\n",
              "      <td>1925.3</td>\n",
              "      <td>2973.3</td>\n",
              "      <td>36970.2</td>\n",
              "      <td>55350.1</td>\n",
              "      <td>nan</td>\n",
              "      <td>...</td>\n",
              "      <td>28144.8</td>\n",
              "      <td>68007.6</td>\n",
              "      <td>2786.3</td>\n",
              "      <td>954.8</td>\n",
              "      <td>78986.8</td>\n",
              "      <td>9145.9</td>\n",
              "      <td>813.1</td>\n",
              "      <td>26721.9</td>\n",
              "      <td>106640.7</td>\n",
              "      <td>80512.0</td>\n",
              "      <td>1405.1</td>\n",
              "      <td>418.8</td>\n",
              "      <td>1395.3</td>\n",
              "      <td>8.5</td>\n",
              "      <td>2426.2</td>\n",
              "      <td>5629.4</td>\n",
              "      <td>1632.3</td>\n",
              "      <td>nan</td>\n",
              "      <td>18058.0</td>\n",
              "      <td>29655.5</td>\n",
              "      <td>62489.4</td>\n",
              "      <td>nan</td>\n",
              "      <td>nan</td>\n",
              "      <td>nan</td>\n",
              "      <td>1087.8</td>\n",
              "      <td>51864.0</td>\n",
              "      <td>58334.0</td>\n",
              "      <td>66520.0</td>\n",
              "      <td>100683.3</td>\n",
              "      <td>87632.4</td>\n",
              "      <td>3017.6</td>\n",
              "      <td>13.0</td>\n",
              "      <td>33374.5</td>\n",
              "      <td>8370.1</td>\n",
              "      <td>82.8</td>\n",
              "      <td>nan</td>\n",
              "      <td>22086.2</td>\n",
              "      <td>226.9</td>\n",
              "      <td>5297.4</td>\n",
              "      <td>2630.2</td>\n",
              "    </tr>\n",
              "    <tr>\n",
              "      <th>2021-06-04</th>\n",
              "      <td>nan</td>\n",
              "      <td>nan</td>\n",
              "      <td>nan</td>\n",
              "      <td>nan</td>\n",
              "      <td>nan</td>\n",
              "      <td>nan</td>\n",
              "      <td>nan</td>\n",
              "      <td>nan</td>\n",
              "      <td>nan</td>\n",
              "      <td>nan</td>\n",
              "      <td>nan</td>\n",
              "      <td>nan</td>\n",
              "      <td>nan</td>\n",
              "      <td>nan</td>\n",
              "      <td>nan</td>\n",
              "      <td>nan</td>\n",
              "      <td>nan</td>\n",
              "      <td>nan</td>\n",
              "      <td>nan</td>\n",
              "      <td>nan</td>\n",
              "      <td>nan</td>\n",
              "      <td>nan</td>\n",
              "      <td>nan</td>\n",
              "      <td>nan</td>\n",
              "      <td>nan</td>\n",
              "      <td>nan</td>\n",
              "      <td>nan</td>\n",
              "      <td>nan</td>\n",
              "      <td>nan</td>\n",
              "      <td>nan</td>\n",
              "      <td>nan</td>\n",
              "      <td>nan</td>\n",
              "      <td>nan</td>\n",
              "      <td>nan</td>\n",
              "      <td>nan</td>\n",
              "      <td>nan</td>\n",
              "      <td>nan</td>\n",
              "      <td>nan</td>\n",
              "      <td>nan</td>\n",
              "      <td>nan</td>\n",
              "      <td>...</td>\n",
              "      <td>nan</td>\n",
              "      <td>nan</td>\n",
              "      <td>nan</td>\n",
              "      <td>nan</td>\n",
              "      <td>nan</td>\n",
              "      <td>nan</td>\n",
              "      <td>nan</td>\n",
              "      <td>nan</td>\n",
              "      <td>nan</td>\n",
              "      <td>nan</td>\n",
              "      <td>nan</td>\n",
              "      <td>nan</td>\n",
              "      <td>nan</td>\n",
              "      <td>nan</td>\n",
              "      <td>nan</td>\n",
              "      <td>nan</td>\n",
              "      <td>nan</td>\n",
              "      <td>nan</td>\n",
              "      <td>nan</td>\n",
              "      <td>nan</td>\n",
              "      <td>nan</td>\n",
              "      <td>nan</td>\n",
              "      <td>nan</td>\n",
              "      <td>nan</td>\n",
              "      <td>nan</td>\n",
              "      <td>nan</td>\n",
              "      <td>nan</td>\n",
              "      <td>nan</td>\n",
              "      <td>nan</td>\n",
              "      <td>nan</td>\n",
              "      <td>nan</td>\n",
              "      <td>nan</td>\n",
              "      <td>nan</td>\n",
              "      <td>nan</td>\n",
              "      <td>nan</td>\n",
              "      <td>nan</td>\n",
              "      <td>nan</td>\n",
              "      <td>nan</td>\n",
              "      <td>nan</td>\n",
              "      <td>nan</td>\n",
              "    </tr>\n",
              "  </tbody>\n",
              "</table>\n",
              "<p>5 rows × 229 columns</p>\n",
              "</div>"
            ],
            "text/plain": [
              "location    Afghanistan  Africa  Albania  ...  Yemen  Zambia  Zimbabwe\n",
              "date                                      ...                         \n",
              "2021-05-31       1845.4  3610.7  45977.8  ...  226.0  5181.9    2621.4\n",
              "2021-06-01       1874.7  3618.1  45985.5  ...  226.3  5212.2    2623.8\n",
              "2021-06-02       1901.6  3624.1  45990.3  ...  226.6  5252.6    2626.1\n",
              "2021-06-03       1929.7  3631.0  45993.5  ...  226.9  5297.4    2630.2\n",
              "2021-06-04          nan     nan      nan  ...    nan     nan       nan\n",
              "\n",
              "[5 rows x 229 columns]"
            ]
          },
          "metadata": {
            "tags": []
          },
          "execution_count": 11
        }
      ]
    },
    {
      "cell_type": "markdown",
      "metadata": {
        "id": "ELqpNztxTw8k"
      },
      "source": [
        "It is observed that the dataset has several null values, which correspond to the days in which no cases were reported. Therefore, these fields are replaced with zeros. Additionally, for the 2021-06-04, the dataframe has no information and this row is removed too.\n"
      ]
    },
    {
      "cell_type": "code",
      "metadata": {
        "colab": {
          "base_uri": "https://localhost:8080/"
        },
        "id": "6Ajm0UwgQvX0",
        "outputId": "10d87adb-9968-4044-b0ac-821b6c528187"
      },
      "source": [
        "cases_by_time.fillna(value=0, inplace=True)\n",
        "cases_by_time.isnull().sum()"
      ],
      "execution_count": 12,
      "outputs": [
        {
          "output_type": "execute_result",
          "data": {
            "text/plain": [
              "location\n",
              "Afghanistan          0\n",
              "Africa               0\n",
              "Albania              0\n",
              "Algeria              0\n",
              "Andorra              0\n",
              "                    ..\n",
              "Wallis and Futuna    0\n",
              "World                0\n",
              "Yemen                0\n",
              "Zambia               0\n",
              "Zimbabwe             0\n",
              "Length: 229, dtype: int64"
            ]
          },
          "metadata": {
            "tags": []
          },
          "execution_count": 12
        }
      ]
    },
    {
      "cell_type": "markdown",
      "metadata": {
        "id": "UXpK4G7eeO5v"
      },
      "source": [
        "To delete the last row there are several options. The ipython magic function %timeit allows to calculate the time execution of each one and choose the one that offers the best performance."
      ]
    },
    {
      "cell_type": "code",
      "metadata": {
        "colab": {
          "base_uri": "https://localhost:8080/"
        },
        "id": "biiBvDk8aqNl",
        "outputId": "c40be590-6f9e-4798-f121-60af7b89b2e5"
      },
      "source": [
        "%timeit cases_by_time.head(-1)"
      ],
      "execution_count": 13,
      "outputs": [
        {
          "output_type": "stream",
          "text": [
            "The slowest run took 6.25 times longer than the fastest. This could mean that an intermediate result is being cached.\n",
            "10000 loops, best of 5: 68.3 µs per loop\n"
          ],
          "name": "stdout"
        }
      ]
    },
    {
      "cell_type": "code",
      "metadata": {
        "colab": {
          "base_uri": "https://localhost:8080/"
        },
        "id": "Qbw6oDTta0PW",
        "outputId": "94a695e8-a07b-4c84-dcf4-b156aca0c43f"
      },
      "source": [
        " %timeit cases_by_time.drop(cases_by_time.tail(1).index)"
      ],
      "execution_count": 14,
      "outputs": [
        {
          "output_type": "stream",
          "text": [
            "1000 loops, best of 5: 937 µs per loop\n"
          ],
          "name": "stdout"
        }
      ]
    },
    {
      "cell_type": "code",
      "metadata": {
        "colab": {
          "base_uri": "https://localhost:8080/",
          "height": 408
        },
        "id": "kLu4GqOAaJtI",
        "outputId": "263dd3d6-fc72-4c7c-8488-912604b4bd6e"
      },
      "source": [
        "cases_by_time = cases_by_time.head(-1)\n",
        "cases_by_time.tail()"
      ],
      "execution_count": 15,
      "outputs": [
        {
          "output_type": "execute_result",
          "data": {
            "text/html": [
              "<div>\n",
              "<style scoped>\n",
              "    .dataframe tbody tr th:only-of-type {\n",
              "        vertical-align: middle;\n",
              "    }\n",
              "\n",
              "    .dataframe tbody tr th {\n",
              "        vertical-align: top;\n",
              "    }\n",
              "\n",
              "    .dataframe thead th {\n",
              "        text-align: right;\n",
              "    }\n",
              "</style>\n",
              "<table border=\"1\" class=\"dataframe\">\n",
              "  <thead>\n",
              "    <tr style=\"text-align: right;\">\n",
              "      <th>location</th>\n",
              "      <th>Afghanistan</th>\n",
              "      <th>Africa</th>\n",
              "      <th>Albania</th>\n",
              "      <th>Algeria</th>\n",
              "      <th>Andorra</th>\n",
              "      <th>Angola</th>\n",
              "      <th>Anguilla</th>\n",
              "      <th>Antigua and Barbuda</th>\n",
              "      <th>Argentina</th>\n",
              "      <th>Armenia</th>\n",
              "      <th>Aruba</th>\n",
              "      <th>Asia</th>\n",
              "      <th>Australia</th>\n",
              "      <th>Austria</th>\n",
              "      <th>Azerbaijan</th>\n",
              "      <th>Bahamas</th>\n",
              "      <th>Bahrain</th>\n",
              "      <th>Bangladesh</th>\n",
              "      <th>Barbados</th>\n",
              "      <th>Belarus</th>\n",
              "      <th>Belgium</th>\n",
              "      <th>Belize</th>\n",
              "      <th>Benin</th>\n",
              "      <th>Bermuda</th>\n",
              "      <th>Bhutan</th>\n",
              "      <th>Bolivia</th>\n",
              "      <th>Bonaire Sint Eustatius and Saba</th>\n",
              "      <th>Bosnia and Herzegovina</th>\n",
              "      <th>Botswana</th>\n",
              "      <th>Brazil</th>\n",
              "      <th>British Virgin Islands</th>\n",
              "      <th>Brunei</th>\n",
              "      <th>Bulgaria</th>\n",
              "      <th>Burkina Faso</th>\n",
              "      <th>Burundi</th>\n",
              "      <th>Cambodia</th>\n",
              "      <th>Cameroon</th>\n",
              "      <th>Canada</th>\n",
              "      <th>Cape Verde</th>\n",
              "      <th>Cayman Islands</th>\n",
              "      <th>...</th>\n",
              "      <th>South Africa</th>\n",
              "      <th>South America</th>\n",
              "      <th>South Korea</th>\n",
              "      <th>South Sudan</th>\n",
              "      <th>Spain</th>\n",
              "      <th>Sri Lanka</th>\n",
              "      <th>Sudan</th>\n",
              "      <th>Suriname</th>\n",
              "      <th>Sweden</th>\n",
              "      <th>Switzerland</th>\n",
              "      <th>Syria</th>\n",
              "      <th>Taiwan</th>\n",
              "      <th>Tajikistan</th>\n",
              "      <th>Tanzania</th>\n",
              "      <th>Thailand</th>\n",
              "      <th>Timor</th>\n",
              "      <th>Togo</th>\n",
              "      <th>Tonga</th>\n",
              "      <th>Trinidad and Tobago</th>\n",
              "      <th>Tunisia</th>\n",
              "      <th>Turkey</th>\n",
              "      <th>Turkmenistan</th>\n",
              "      <th>Turks and Caicos Islands</th>\n",
              "      <th>Tuvalu</th>\n",
              "      <th>Uganda</th>\n",
              "      <th>Ukraine</th>\n",
              "      <th>United Arab Emirates</th>\n",
              "      <th>United Kingdom</th>\n",
              "      <th>United States</th>\n",
              "      <th>Uruguay</th>\n",
              "      <th>Uzbekistan</th>\n",
              "      <th>Vanuatu</th>\n",
              "      <th>Vatican</th>\n",
              "      <th>Venezuela</th>\n",
              "      <th>Vietnam</th>\n",
              "      <th>Wallis and Futuna</th>\n",
              "      <th>World</th>\n",
              "      <th>Yemen</th>\n",
              "      <th>Zambia</th>\n",
              "      <th>Zimbabwe</th>\n",
              "    </tr>\n",
              "    <tr>\n",
              "      <th>date</th>\n",
              "      <th></th>\n",
              "      <th></th>\n",
              "      <th></th>\n",
              "      <th></th>\n",
              "      <th></th>\n",
              "      <th></th>\n",
              "      <th></th>\n",
              "      <th></th>\n",
              "      <th></th>\n",
              "      <th></th>\n",
              "      <th></th>\n",
              "      <th></th>\n",
              "      <th></th>\n",
              "      <th></th>\n",
              "      <th></th>\n",
              "      <th></th>\n",
              "      <th></th>\n",
              "      <th></th>\n",
              "      <th></th>\n",
              "      <th></th>\n",
              "      <th></th>\n",
              "      <th></th>\n",
              "      <th></th>\n",
              "      <th></th>\n",
              "      <th></th>\n",
              "      <th></th>\n",
              "      <th></th>\n",
              "      <th></th>\n",
              "      <th></th>\n",
              "      <th></th>\n",
              "      <th></th>\n",
              "      <th></th>\n",
              "      <th></th>\n",
              "      <th></th>\n",
              "      <th></th>\n",
              "      <th></th>\n",
              "      <th></th>\n",
              "      <th></th>\n",
              "      <th></th>\n",
              "      <th></th>\n",
              "      <th></th>\n",
              "      <th></th>\n",
              "      <th></th>\n",
              "      <th></th>\n",
              "      <th></th>\n",
              "      <th></th>\n",
              "      <th></th>\n",
              "      <th></th>\n",
              "      <th></th>\n",
              "      <th></th>\n",
              "      <th></th>\n",
              "      <th></th>\n",
              "      <th></th>\n",
              "      <th></th>\n",
              "      <th></th>\n",
              "      <th></th>\n",
              "      <th></th>\n",
              "      <th></th>\n",
              "      <th></th>\n",
              "      <th></th>\n",
              "      <th></th>\n",
              "      <th></th>\n",
              "      <th></th>\n",
              "      <th></th>\n",
              "      <th></th>\n",
              "      <th></th>\n",
              "      <th></th>\n",
              "      <th></th>\n",
              "      <th></th>\n",
              "      <th></th>\n",
              "      <th></th>\n",
              "      <th></th>\n",
              "      <th></th>\n",
              "      <th></th>\n",
              "      <th></th>\n",
              "      <th></th>\n",
              "      <th></th>\n",
              "      <th></th>\n",
              "      <th></th>\n",
              "      <th></th>\n",
              "      <th></th>\n",
              "    </tr>\n",
              "  </thead>\n",
              "  <tbody>\n",
              "    <tr>\n",
              "      <th>2021-05-30</th>\n",
              "      <td>1817.7</td>\n",
              "      <td>3600.6</td>\n",
              "      <td>45975.7</td>\n",
              "      <td>2935.5</td>\n",
              "      <td>177221.3</td>\n",
              "      <td>1045.6</td>\n",
              "      <td>0.0</td>\n",
              "      <td>12856.4</td>\n",
              "      <td>83052.2</td>\n",
              "      <td>75132.8</td>\n",
              "      <td>0.0</td>\n",
              "      <td>11005.6</td>\n",
              "      <td>1180.6</td>\n",
              "      <td>71569.8</td>\n",
              "      <td>32928.1</td>\n",
              "      <td>29866.6</td>\n",
              "      <td>139961.4</td>\n",
              "      <td>4850.5</td>\n",
              "      <td>13978.4</td>\n",
              "      <td>41675.7</td>\n",
              "      <td>91564.7</td>\n",
              "      <td>32168.8</td>\n",
              "      <td>664.7</td>\n",
              "      <td>0.0</td>\n",
              "      <td>2089.1</td>\n",
              "      <td>31566.3</td>\n",
              "      <td>0.0</td>\n",
              "      <td>62130.6</td>\n",
              "      <td>22865.5</td>\n",
              "      <td>77696.5</td>\n",
              "      <td>0.0</td>\n",
              "      <td>550.9</td>\n",
              "      <td>60196.8</td>\n",
              "      <td>642.5</td>\n",
              "      <td>399.8</td>\n",
              "      <td>1758.7</td>\n",
              "      <td>2973.3</td>\n",
              "      <td>36732.3</td>\n",
              "      <td>54603.7</td>\n",
              "      <td>0.0</td>\n",
              "      <td>...</td>\n",
              "      <td>27973.5</td>\n",
              "      <td>66580.1</td>\n",
              "      <td>2737.3</td>\n",
              "      <td>954.8</td>\n",
              "      <td>78465.9</td>\n",
              "      <td>8567.2</td>\n",
              "      <td>804.8</td>\n",
              "      <td>25167.3</td>\n",
              "      <td>105797.1</td>\n",
              "      <td>80075.5</td>\n",
              "      <td>1398.1</td>\n",
              "      <td>342.6</td>\n",
              "      <td>1395.3</td>\n",
              "      <td>8.5</td>\n",
              "      <td>2240.3</td>\n",
              "      <td>5231.2</td>\n",
              "      <td>1625.5</td>\n",
              "      <td>0.0</td>\n",
              "      <td>16890.4</td>\n",
              "      <td>29164.8</td>\n",
              "      <td>62164.7</td>\n",
              "      <td>0.0</td>\n",
              "      <td>0.0</td>\n",
              "      <td>0.0</td>\n",
              "      <td>1019.3</td>\n",
              "      <td>51670.4</td>\n",
              "      <td>57537.9</td>\n",
              "      <td>66286.7</td>\n",
              "      <td>100487.8</td>\n",
              "      <td>83912.2</td>\n",
              "      <td>2991.5</td>\n",
              "      <td>13.0</td>\n",
              "      <td>33374.5</td>\n",
              "      <td>8186.8</td>\n",
              "      <td>73.0</td>\n",
              "      <td>0.0</td>\n",
              "      <td>21854.6</td>\n",
              "      <td>225.9</td>\n",
              "      <td>5170.3</td>\n",
              "      <td>2620.2</td>\n",
              "    </tr>\n",
              "    <tr>\n",
              "      <th>2021-05-31</th>\n",
              "      <td>1845.4</td>\n",
              "      <td>3610.7</td>\n",
              "      <td>45977.8</td>\n",
              "      <td>2939.8</td>\n",
              "      <td>177661.3</td>\n",
              "      <td>1051.3</td>\n",
              "      <td>0.0</td>\n",
              "      <td>12866.6</td>\n",
              "      <td>83675.6</td>\n",
              "      <td>75144.3</td>\n",
              "      <td>0.0</td>\n",
              "      <td>11049.0</td>\n",
              "      <td>1181.1</td>\n",
              "      <td>71595.2</td>\n",
              "      <td>32937.2</td>\n",
              "      <td>29996.3</td>\n",
              "      <td>141357.2</td>\n",
              "      <td>4860.9</td>\n",
              "      <td>13978.4</td>\n",
              "      <td>41742.6</td>\n",
              "      <td>91633.8</td>\n",
              "      <td>32214.1</td>\n",
              "      <td>664.7</td>\n",
              "      <td>0.0</td>\n",
              "      <td>2099.5</td>\n",
              "      <td>31806.6</td>\n",
              "      <td>0.0</td>\n",
              "      <td>62183.3</td>\n",
              "      <td>23376.6</td>\n",
              "      <td>77839.7</td>\n",
              "      <td>0.0</td>\n",
              "      <td>553.2</td>\n",
              "      <td>60240.4</td>\n",
              "      <td>642.7</td>\n",
              "      <td>402.8</td>\n",
              "      <td>1800.0</td>\n",
              "      <td>2973.3</td>\n",
              "      <td>36811.0</td>\n",
              "      <td>54747.6</td>\n",
              "      <td>0.0</td>\n",
              "      <td>...</td>\n",
              "      <td>28083.9</td>\n",
              "      <td>66828.2</td>\n",
              "      <td>2746.3</td>\n",
              "      <td>954.8</td>\n",
              "      <td>78674.1</td>\n",
              "      <td>8703.2</td>\n",
              "      <td>809.5</td>\n",
              "      <td>25491.2</td>\n",
              "      <td>105797.1</td>\n",
              "      <td>80273.9</td>\n",
              "      <td>1399.7</td>\n",
              "      <td>357.4</td>\n",
              "      <td>1395.3</td>\n",
              "      <td>8.5</td>\n",
              "      <td>2289.3</td>\n",
              "      <td>5304.7</td>\n",
              "      <td>1626.6</td>\n",
              "      <td>0.0</td>\n",
              "      <td>17084.1</td>\n",
              "      <td>29231.3</td>\n",
              "      <td>62241.7</td>\n",
              "      <td>0.0</td>\n",
              "      <td>0.0</td>\n",
              "      <td>0.0</td>\n",
              "      <td>1030.7</td>\n",
              "      <td>51696.9</td>\n",
              "      <td>57716.2</td>\n",
              "      <td>66335.2</td>\n",
              "      <td>100505.3</td>\n",
              "      <td>84780.1</td>\n",
              "      <td>2997.8</td>\n",
              "      <td>13.0</td>\n",
              "      <td>33374.5</td>\n",
              "      <td>8234.8</td>\n",
              "      <td>76.4</td>\n",
              "      <td>0.0</td>\n",
              "      <td>21903.2</td>\n",
              "      <td>226.0</td>\n",
              "      <td>5181.9</td>\n",
              "      <td>2621.4</td>\n",
              "    </tr>\n",
              "    <tr>\n",
              "      <th>2021-06-01</th>\n",
              "      <td>1874.7</td>\n",
              "      <td>3618.1</td>\n",
              "      <td>45985.5</td>\n",
              "      <td>2946.7</td>\n",
              "      <td>177687.2</td>\n",
              "      <td>1057.4</td>\n",
              "      <td>0.0</td>\n",
              "      <td>12866.6</td>\n",
              "      <td>84457.9</td>\n",
              "      <td>75180.7</td>\n",
              "      <td>0.0</td>\n",
              "      <td>11093.8</td>\n",
              "      <td>1181.3</td>\n",
              "      <td>71632.6</td>\n",
              "      <td>32954.6</td>\n",
              "      <td>29996.3</td>\n",
              "      <td>142684.8</td>\n",
              "      <td>4871.6</td>\n",
              "      <td>13978.4</td>\n",
              "      <td>41809.9</td>\n",
              "      <td>91763.1</td>\n",
              "      <td>32239.2</td>\n",
              "      <td>664.7</td>\n",
              "      <td>0.0</td>\n",
              "      <td>2115.1</td>\n",
              "      <td>32101.2</td>\n",
              "      <td>0.0</td>\n",
              "      <td>62208.0</td>\n",
              "      <td>23376.6</td>\n",
              "      <td>78211.0</td>\n",
              "      <td>0.0</td>\n",
              "      <td>557.7</td>\n",
              "      <td>60274.3</td>\n",
              "      <td>642.7</td>\n",
              "      <td>403.9</td>\n",
              "      <td>1836.8</td>\n",
              "      <td>2973.3</td>\n",
              "      <td>36854.8</td>\n",
              "      <td>54898.7</td>\n",
              "      <td>0.0</td>\n",
              "      <td>...</td>\n",
              "      <td>28144.8</td>\n",
              "      <td>67196.0</td>\n",
              "      <td>2759.5</td>\n",
              "      <td>954.8</td>\n",
              "      <td>78767.9</td>\n",
              "      <td>8837.6</td>\n",
              "      <td>809.9</td>\n",
              "      <td>25787.8</td>\n",
              "      <td>105797.1</td>\n",
              "      <td>80361.3</td>\n",
              "      <td>1401.6</td>\n",
              "      <td>371.3</td>\n",
              "      <td>1395.3</td>\n",
              "      <td>8.5</td>\n",
              "      <td>2321.2</td>\n",
              "      <td>5431.4</td>\n",
              "      <td>1628.4</td>\n",
              "      <td>0.0</td>\n",
              "      <td>17373.5</td>\n",
              "      <td>29359.3</td>\n",
              "      <td>62326.0</td>\n",
              "      <td>0.0</td>\n",
              "      <td>0.0</td>\n",
              "      <td>0.0</td>\n",
              "      <td>1044.2</td>\n",
              "      <td>51748.7</td>\n",
              "      <td>57915.2</td>\n",
              "      <td>66380.9</td>\n",
              "      <td>100574.6</td>\n",
              "      <td>85788.5</td>\n",
              "      <td>3002.6</td>\n",
              "      <td>13.0</td>\n",
              "      <td>33374.5</td>\n",
              "      <td>8284.1</td>\n",
              "      <td>78.3</td>\n",
              "      <td>0.0</td>\n",
              "      <td>21962.7</td>\n",
              "      <td>226.3</td>\n",
              "      <td>5212.2</td>\n",
              "      <td>2623.8</td>\n",
              "    </tr>\n",
              "    <tr>\n",
              "      <th>2021-06-02</th>\n",
              "      <td>1901.6</td>\n",
              "      <td>3624.1</td>\n",
              "      <td>45990.3</td>\n",
              "      <td>2956.4</td>\n",
              "      <td>177881.3</td>\n",
              "      <td>1063.7</td>\n",
              "      <td>0.0</td>\n",
              "      <td>12887.0</td>\n",
              "      <td>85232.7</td>\n",
              "      <td>75211.7</td>\n",
              "      <td>0.0</td>\n",
              "      <td>11139.2</td>\n",
              "      <td>1181.8</td>\n",
              "      <td>71677.0</td>\n",
              "      <td>32969.9</td>\n",
              "      <td>30169.3</td>\n",
              "      <td>143822.5</td>\n",
              "      <td>4883.7</td>\n",
              "      <td>13999.3</td>\n",
              "      <td>41906.7</td>\n",
              "      <td>91923.5</td>\n",
              "      <td>32274.5</td>\n",
              "      <td>666.7</td>\n",
              "      <td>0.0</td>\n",
              "      <td>2124.1</td>\n",
              "      <td>32384.7</td>\n",
              "      <td>0.0</td>\n",
              "      <td>62232.1</td>\n",
              "      <td>23376.6</td>\n",
              "      <td>78660.7</td>\n",
              "      <td>0.0</td>\n",
              "      <td>557.7</td>\n",
              "      <td>60302.7</td>\n",
              "      <td>642.7</td>\n",
              "      <td>406.0</td>\n",
              "      <td>1881.7</td>\n",
              "      <td>2973.3</td>\n",
              "      <td>36912.6</td>\n",
              "      <td>55206.2</td>\n",
              "      <td>0.0</td>\n",
              "      <td>...</td>\n",
              "      <td>28144.8</td>\n",
              "      <td>67627.9</td>\n",
              "      <td>2772.8</td>\n",
              "      <td>954.8</td>\n",
              "      <td>78874.5</td>\n",
              "      <td>8992.0</td>\n",
              "      <td>810.4</td>\n",
              "      <td>26299.2</td>\n",
              "      <td>105797.1</td>\n",
              "      <td>80444.1</td>\n",
              "      <td>1403.3</td>\n",
              "      <td>394.2</td>\n",
              "      <td>1395.3</td>\n",
              "      <td>8.5</td>\n",
              "      <td>2370.5</td>\n",
              "      <td>5544.4</td>\n",
              "      <td>1630.2</td>\n",
              "      <td>0.0</td>\n",
              "      <td>17667.9</td>\n",
              "      <td>29522.1</td>\n",
              "      <td>62411.1</td>\n",
              "      <td>0.0</td>\n",
              "      <td>0.0</td>\n",
              "      <td>0.0</td>\n",
              "      <td>1064.2</td>\n",
              "      <td>51802.1</td>\n",
              "      <td>58132.9</td>\n",
              "      <td>66443.7</td>\n",
              "      <td>100625.7</td>\n",
              "      <td>86801.3</td>\n",
              "      <td>3009.5</td>\n",
              "      <td>13.0</td>\n",
              "      <td>33374.5</td>\n",
              "      <td>8325.9</td>\n",
              "      <td>80.9</td>\n",
              "      <td>0.0</td>\n",
              "      <td>22024.2</td>\n",
              "      <td>226.6</td>\n",
              "      <td>5252.6</td>\n",
              "      <td>2626.1</td>\n",
              "    </tr>\n",
              "    <tr>\n",
              "      <th>2021-06-03</th>\n",
              "      <td>1929.7</td>\n",
              "      <td>3631.0</td>\n",
              "      <td>45993.5</td>\n",
              "      <td>2964.0</td>\n",
              "      <td>177984.9</td>\n",
              "      <td>1069.2</td>\n",
              "      <td>0.0</td>\n",
              "      <td>12887.0</td>\n",
              "      <td>85947.1</td>\n",
              "      <td>75248.2</td>\n",
              "      <td>0.0</td>\n",
              "      <td>11184.9</td>\n",
              "      <td>1182.0</td>\n",
              "      <td>71708.3</td>\n",
              "      <td>32982.6</td>\n",
              "      <td>30337.1</td>\n",
              "      <td>144958.0</td>\n",
              "      <td>4893.9</td>\n",
              "      <td>14009.8</td>\n",
              "      <td>41999.7</td>\n",
              "      <td>92061.5</td>\n",
              "      <td>32292.1</td>\n",
              "      <td>666.7</td>\n",
              "      <td>0.0</td>\n",
              "      <td>2143.6</td>\n",
              "      <td>32592.8</td>\n",
              "      <td>0.0</td>\n",
              "      <td>62256.5</td>\n",
              "      <td>23905.6</td>\n",
              "      <td>79053.1</td>\n",
              "      <td>0.0</td>\n",
              "      <td>557.7</td>\n",
              "      <td>60327.2</td>\n",
              "      <td>643.2</td>\n",
              "      <td>407.4</td>\n",
              "      <td>1925.3</td>\n",
              "      <td>2973.3</td>\n",
              "      <td>36970.2</td>\n",
              "      <td>55350.1</td>\n",
              "      <td>0.0</td>\n",
              "      <td>...</td>\n",
              "      <td>28144.8</td>\n",
              "      <td>68007.6</td>\n",
              "      <td>2786.3</td>\n",
              "      <td>954.8</td>\n",
              "      <td>78986.8</td>\n",
              "      <td>9145.9</td>\n",
              "      <td>813.1</td>\n",
              "      <td>26721.9</td>\n",
              "      <td>106640.7</td>\n",
              "      <td>80512.0</td>\n",
              "      <td>1405.1</td>\n",
              "      <td>418.8</td>\n",
              "      <td>1395.3</td>\n",
              "      <td>8.5</td>\n",
              "      <td>2426.2</td>\n",
              "      <td>5629.4</td>\n",
              "      <td>1632.3</td>\n",
              "      <td>0.0</td>\n",
              "      <td>18058.0</td>\n",
              "      <td>29655.5</td>\n",
              "      <td>62489.4</td>\n",
              "      <td>0.0</td>\n",
              "      <td>0.0</td>\n",
              "      <td>0.0</td>\n",
              "      <td>1087.8</td>\n",
              "      <td>51864.0</td>\n",
              "      <td>58334.0</td>\n",
              "      <td>66520.0</td>\n",
              "      <td>100683.3</td>\n",
              "      <td>87632.4</td>\n",
              "      <td>3017.6</td>\n",
              "      <td>13.0</td>\n",
              "      <td>33374.5</td>\n",
              "      <td>8370.1</td>\n",
              "      <td>82.8</td>\n",
              "      <td>0.0</td>\n",
              "      <td>22086.2</td>\n",
              "      <td>226.9</td>\n",
              "      <td>5297.4</td>\n",
              "      <td>2630.2</td>\n",
              "    </tr>\n",
              "  </tbody>\n",
              "</table>\n",
              "<p>5 rows × 229 columns</p>\n",
              "</div>"
            ],
            "text/plain": [
              "location    Afghanistan  Africa  Albania  ...  Yemen  Zambia  Zimbabwe\n",
              "date                                      ...                         \n",
              "2021-05-30       1817.7  3600.6  45975.7  ...  225.9  5170.3    2620.2\n",
              "2021-05-31       1845.4  3610.7  45977.8  ...  226.0  5181.9    2621.4\n",
              "2021-06-01       1874.7  3618.1  45985.5  ...  226.3  5212.2    2623.8\n",
              "2021-06-02       1901.6  3624.1  45990.3  ...  226.6  5252.6    2626.1\n",
              "2021-06-03       1929.7  3631.0  45993.5  ...  226.9  5297.4    2630.2\n",
              "\n",
              "[5 rows x 229 columns]"
            ]
          },
          "metadata": {
            "tags": []
          },
          "execution_count": 15
        }
      ]
    },
    {
      "cell_type": "code",
      "metadata": {
        "colab": {
          "base_uri": "https://localhost:8080/",
          "height": 470
        },
        "id": "6tuplWi-cH_5",
        "outputId": "bb2271ad-e858-44be-a5af-29ed0fdb57d9"
      },
      "source": [
        "countries = ['Colombia', 'Argentina', 'Mexico', 'United States', 'Peru']\n",
        "\n",
        "cases_by_time[countries].plot(figsize = (12,7),\n",
        "                              title = 'Cumulative confirmed COVID-19 cases (per million people)',\n",
        "                              linewidth=2, \n",
        "                              linestyle='dashed',)\n",
        "\n",
        "plt.xlabel('date')\n",
        "plt.ylabel('total cases')\n",
        "plt.show()"
      ],
      "execution_count": 16,
      "outputs": [
        {
          "output_type": "display_data",
          "data": {
            "image/png": "[encoded data removed]",
            "text/plain": [
              "<Figure size 864x504 with 1 Axes>"
            ]
          },
          "metadata": {
            "tags": [],
            "needs_background": "light"
          }
        }
      ]
    },
    {
      "cell_type": "markdown",
      "metadata": {
        "id": "trq0rNGtZBdg"
      },
      "source": [
        "####Percent of population infected by country"
      ]
    },
    {
      "cell_type": "markdown",
      "metadata": {
        "id": "pQYo8Pf1pvNa"
      },
      "source": [
        "To calculate the percent of population infected with coronavirus by country, it is necessary to compare the total cases with the population. The following steps are required to represent the data in a Power BI map:\n",
        "\n",
        "1. Identify the unique values in the location attribute.\n",
        "2. Working with null values.\n",
        "3. Create a new column to calculate the total cases/population for each one of the countries.\n",
        "4. Export the data to build the dashboard in Power BI.\n"
      ]
    },
    {
      "cell_type": "code",
      "metadata": {
        "colab": {
          "base_uri": "https://localhost:8080/"
        },
        "id": "ywCITofreNfU",
        "outputId": "9b44862e-1275-4d1d-cbb4-32c86fcce061"
      },
      "source": [
        "covid_infection = covid_data_copy.copy(deep=True)\n",
        "covid_infection.location.unique()"
      ],
      "execution_count": 17,
      "outputs": [
        {
          "output_type": "execute_result",
          "data": {
            "text/plain": [
              "array(['Afghanistan', 'Africa', 'Albania', 'Algeria', 'Andorra', 'Angola',\n",
              "       'Anguilla', 'Antigua and Barbuda', 'Argentina', 'Armenia', 'Aruba',\n",
              "       'Asia', 'Australia', 'Austria', 'Azerbaijan', 'Bahamas', 'Bahrain',\n",
              "       'Bangladesh', 'Barbados', 'Belarus', 'Belgium', 'Belize', 'Benin',\n",
              "       'Bermuda', 'Bhutan', 'Bolivia', 'Bonaire Sint Eustatius and Saba',\n",
              "       'Bosnia and Herzegovina', 'Botswana', 'Brazil',\n",
              "       'British Virgin Islands', 'Brunei', 'Bulgaria', 'Burkina Faso',\n",
              "       'Burundi', 'Cambodia', 'Cameroon', 'Canada', 'Cape Verde',\n",
              "       'Cayman Islands', 'Central African Republic', 'Chad', 'Chile',\n",
              "       'China', 'Colombia', 'Comoros', 'Congo', 'Cook Islands',\n",
              "       'Costa Rica', \"Cote d'Ivoire\", 'Croatia', 'Cuba', 'Curacao',\n",
              "       'Cyprus', 'Czechia', 'Democratic Republic of Congo', 'Denmark',\n",
              "       'Djibouti', 'Dominica', 'Dominican Republic', 'Ecuador', 'Egypt',\n",
              "       'El Salvador', 'Equatorial Guinea', 'Eritrea', 'Estonia',\n",
              "       'Eswatini', 'Ethiopia', 'Europe', 'European Union',\n",
              "       'Faeroe Islands', 'Falkland Islands', 'Fiji', 'Finland', 'France',\n",
              "       'French Polynesia', 'Gabon', 'Gambia', 'Georgia', 'Germany',\n",
              "       'Ghana', 'Gibraltar', 'Greece', 'Greenland', 'Grenada',\n",
              "       'Guatemala', 'Guernsey', 'Guinea', 'Guinea-Bissau', 'Guyana',\n",
              "       'Haiti', 'Honduras', 'Hong Kong', 'Hungary', 'Iceland', 'India',\n",
              "       'Indonesia', 'International', 'Iran', 'Iraq', 'Ireland',\n",
              "       'Isle of Man', 'Israel', 'Italy', 'Jamaica', 'Japan', 'Jersey',\n",
              "       'Jordan', 'Kazakhstan', 'Kenya', 'Kiribati', 'Kosovo', 'Kuwait',\n",
              "       'Kyrgyzstan', 'Laos', 'Latvia', 'Lebanon', 'Lesotho', 'Liberia',\n",
              "       'Libya', 'Liechtenstein', 'Lithuania', 'Luxembourg', 'Macao',\n",
              "       'Madagascar', 'Malawi', 'Malaysia', 'Maldives', 'Mali', 'Malta',\n",
              "       'Marshall Islands', 'Mauritania', 'Mauritius', 'Mexico',\n",
              "       'Micronesia (country)', 'Moldova', 'Monaco', 'Mongolia',\n",
              "       'Montenegro', 'Montserrat', 'Morocco', 'Mozambique', 'Myanmar',\n",
              "       'Namibia', 'Nauru', 'Nepal', 'Netherlands', 'New Caledonia',\n",
              "       'New Zealand', 'Nicaragua', 'Niger', 'Nigeria', 'North America',\n",
              "       'North Macedonia', 'Northern Cyprus', 'Norway', 'Oceania', 'Oman',\n",
              "       'Pakistan', 'Palestine', 'Panama', 'Papua New Guinea', 'Paraguay',\n",
              "       'Peru', 'Philippines', 'Poland', 'Portugal', 'Qatar', 'Romania',\n",
              "       'Russia', 'Rwanda', 'Saint Helena', 'Saint Kitts and Nevis',\n",
              "       'Saint Lucia', 'Saint Vincent and the Grenadines', 'Samoa',\n",
              "       'San Marino', 'Sao Tome and Principe', 'Saudi Arabia', 'Senegal',\n",
              "       'Serbia', 'Seychelles', 'Sierra Leone', 'Singapore',\n",
              "       'Sint Maarten (Dutch part)', 'Slovakia', 'Slovenia',\n",
              "       'Solomon Islands', 'Somalia', 'South Africa', 'South America',\n",
              "       'South Korea', 'South Sudan', 'Spain', 'Sri Lanka', 'Sudan',\n",
              "       'Suriname', 'Sweden', 'Switzerland', 'Syria', 'Taiwan',\n",
              "       'Tajikistan', 'Tanzania', 'Thailand', 'Timor', 'Togo', 'Tonga',\n",
              "       'Trinidad and Tobago', 'Tunisia', 'Turkey', 'Turkmenistan',\n",
              "       'Turks and Caicos Islands', 'Tuvalu', 'Uganda', 'Ukraine',\n",
              "       'United Arab Emirates', 'United Kingdom', 'United States',\n",
              "       'Uruguay', 'Uzbekistan', 'Vanuatu', 'Vatican', 'Venezuela',\n",
              "       'Vietnam', 'Wallis and Futuna', 'World', 'Yemen', 'Zambia',\n",
              "       'Zimbabwe'], dtype=object)"
            ]
          },
          "metadata": {
            "tags": []
          },
          "execution_count": 17
        }
      ]
    },
    {
      "cell_type": "code",
      "metadata": {
        "colab": {
          "base_uri": "https://localhost:8080/",
          "height": 299
        },
        "id": "YWtzYfCVf-Vv",
        "outputId": "0ee98ba3-1d3a-46be-ab68-e30f1535a453"
      },
      "source": [
        "covid_infection.loc[covid_infection['location'] =='Africa'].head()"
      ],
      "execution_count": 18,
      "outputs": [
        {
          "output_type": "execute_result",
          "data": {
            "text/html": [
              "<div>\n",
              "<style scoped>\n",
              "    .dataframe tbody tr th:only-of-type {\n",
              "        vertical-align: middle;\n",
              "    }\n",
              "\n",
              "    .dataframe tbody tr th {\n",
              "        vertical-align: top;\n",
              "    }\n",
              "\n",
              "    .dataframe thead th {\n",
              "        text-align: right;\n",
              "    }\n",
              "</style>\n",
              "<table border=\"1\" class=\"dataframe\">\n",
              "  <thead>\n",
              "    <tr style=\"text-align: right;\">\n",
              "      <th></th>\n",
              "      <th>continent</th>\n",
              "      <th>location</th>\n",
              "      <th>date</th>\n",
              "      <th>population</th>\n",
              "      <th>total_cases</th>\n",
              "      <th>new_cases</th>\n",
              "      <th>total_deaths</th>\n",
              "      <th>new_deaths</th>\n",
              "      <th>total_cases_per_million</th>\n",
              "      <th>new_cases_per_million</th>\n",
              "      <th>total_deaths_per_million</th>\n",
              "      <th>new_deaths_per_million</th>\n",
              "      <th>median_age</th>\n",
              "      <th>aged_65_older</th>\n",
              "      <th>aged_70_older</th>\n",
              "      <th>cardiovasc_death_rate</th>\n",
              "      <th>diabetes_prevalence</th>\n",
              "      <th>handwashing_facilities</th>\n",
              "      <th>hospital_beds_per_thousand</th>\n",
              "    </tr>\n",
              "  </thead>\n",
              "  <tbody>\n",
              "    <tr>\n",
              "      <th>466</th>\n",
              "      <td>NaN</td>\n",
              "      <td>Africa</td>\n",
              "      <td>2020-02-13</td>\n",
              "      <td>1340598113.0</td>\n",
              "      <td>nan</td>\n",
              "      <td>0.0</td>\n",
              "      <td>nan</td>\n",
              "      <td>0.0</td>\n",
              "      <td>nan</td>\n",
              "      <td>0.0</td>\n",
              "      <td>nan</td>\n",
              "      <td>0.0</td>\n",
              "      <td>nan</td>\n",
              "      <td>nan</td>\n",
              "      <td>nan</td>\n",
              "      <td>nan</td>\n",
              "      <td>nan</td>\n",
              "      <td>nan</td>\n",
              "      <td>nan</td>\n",
              "    </tr>\n",
              "    <tr>\n",
              "      <th>467</th>\n",
              "      <td>NaN</td>\n",
              "      <td>Africa</td>\n",
              "      <td>2020-02-14</td>\n",
              "      <td>1340598113.0</td>\n",
              "      <td>1.0</td>\n",
              "      <td>1.0</td>\n",
              "      <td>nan</td>\n",
              "      <td>0.0</td>\n",
              "      <td>0.0</td>\n",
              "      <td>0.0</td>\n",
              "      <td>nan</td>\n",
              "      <td>0.0</td>\n",
              "      <td>nan</td>\n",
              "      <td>nan</td>\n",
              "      <td>nan</td>\n",
              "      <td>nan</td>\n",
              "      <td>nan</td>\n",
              "      <td>nan</td>\n",
              "      <td>nan</td>\n",
              "    </tr>\n",
              "    <tr>\n",
              "      <th>468</th>\n",
              "      <td>NaN</td>\n",
              "      <td>Africa</td>\n",
              "      <td>2020-02-15</td>\n",
              "      <td>1340598113.0</td>\n",
              "      <td>1.0</td>\n",
              "      <td>0.0</td>\n",
              "      <td>nan</td>\n",
              "      <td>0.0</td>\n",
              "      <td>0.0</td>\n",
              "      <td>0.0</td>\n",
              "      <td>nan</td>\n",
              "      <td>0.0</td>\n",
              "      <td>nan</td>\n",
              "      <td>nan</td>\n",
              "      <td>nan</td>\n",
              "      <td>nan</td>\n",
              "      <td>nan</td>\n",
              "      <td>nan</td>\n",
              "      <td>nan</td>\n",
              "    </tr>\n",
              "    <tr>\n",
              "      <th>469</th>\n",
              "      <td>NaN</td>\n",
              "      <td>Africa</td>\n",
              "      <td>2020-02-16</td>\n",
              "      <td>1340598113.0</td>\n",
              "      <td>1.0</td>\n",
              "      <td>0.0</td>\n",
              "      <td>nan</td>\n",
              "      <td>0.0</td>\n",
              "      <td>0.0</td>\n",
              "      <td>0.0</td>\n",
              "      <td>nan</td>\n",
              "      <td>0.0</td>\n",
              "      <td>nan</td>\n",
              "      <td>nan</td>\n",
              "      <td>nan</td>\n",
              "      <td>nan</td>\n",
              "      <td>nan</td>\n",
              "      <td>nan</td>\n",
              "      <td>nan</td>\n",
              "    </tr>\n",
              "    <tr>\n",
              "      <th>470</th>\n",
              "      <td>NaN</td>\n",
              "      <td>Africa</td>\n",
              "      <td>2020-02-17</td>\n",
              "      <td>1340598113.0</td>\n",
              "      <td>1.0</td>\n",
              "      <td>0.0</td>\n",
              "      <td>nan</td>\n",
              "      <td>0.0</td>\n",
              "      <td>0.0</td>\n",
              "      <td>0.0</td>\n",
              "      <td>nan</td>\n",
              "      <td>0.0</td>\n",
              "      <td>nan</td>\n",
              "      <td>nan</td>\n",
              "      <td>nan</td>\n",
              "      <td>nan</td>\n",
              "      <td>nan</td>\n",
              "      <td>nan</td>\n",
              "      <td>nan</td>\n",
              "    </tr>\n",
              "  </tbody>\n",
              "</table>\n",
              "</div>"
            ],
            "text/plain": [
              "    continent location  ... handwashing_facilities  hospital_beds_per_thousand\n",
              "466       NaN   Africa  ...                    nan                         nan\n",
              "467       NaN   Africa  ...                    nan                         nan\n",
              "468       NaN   Africa  ...                    nan                         nan\n",
              "469       NaN   Africa  ...                    nan                         nan\n",
              "470       NaN   Africa  ...                    nan                         nan\n",
              "\n",
              "[5 rows x 19 columns]"
            ]
          },
          "metadata": {
            "tags": []
          },
          "execution_count": 18
        }
      ]
    },
    {
      "cell_type": "markdown",
      "metadata": {
        "id": "T5hnto-YJSFa"
      },
      "source": [
        "It is observed that, for the rows where location is a continent, the attribute 'continent' has a NaN value. Additionaly, as it is necessary to divide the total cases by the population, the latter must not have null values or zeros, to avoid the float division by zero error."
      ]
    },
    {
      "cell_type": "code",
      "metadata": {
        "colab": {
          "base_uri": "https://localhost:8080/"
        },
        "id": "VdFBSJG2JU8o",
        "outputId": "f86228bf-9bfb-4b78-a973-c66582e4014b"
      },
      "source": [
        "covid_infection = covid_infection[covid_infection['continent'].notnull()]\n",
        "countries_without_population = covid_infection[covid_infection['population'].isnull()]\n",
        "countries_without_population.location.unique()"
      ],
      "execution_count": 19,
      "outputs": [
        {
          "output_type": "execute_result",
          "data": {
            "text/plain": [
              "array(['Northern Cyprus'], dtype=object)"
            ]
          },
          "metadata": {
            "tags": []
          },
          "execution_count": 19
        }
      ]
    },
    {
      "cell_type": "code",
      "metadata": {
        "colab": {
          "base_uri": "https://localhost:8080/",
          "height": 299
        },
        "id": "h7ks1s5ZJuZ3",
        "outputId": "a3d8234a-3836-4e89-ef42-96ffea9294b2"
      },
      "source": [
        "covid_infection.loc[covid_infection['location'] == 'Northern Cyprus'].tail()"
      ],
      "execution_count": 20,
      "outputs": [
        {
          "output_type": "execute_result",
          "data": {
            "text/html": [
              "<div>\n",
              "<style scoped>\n",
              "    .dataframe tbody tr th:only-of-type {\n",
              "        vertical-align: middle;\n",
              "    }\n",
              "\n",
              "    .dataframe tbody tr th {\n",
              "        vertical-align: top;\n",
              "    }\n",
              "\n",
              "    .dataframe thead th {\n",
              "        text-align: right;\n",
              "    }\n",
              "</style>\n",
              "<table border=\"1\" class=\"dataframe\">\n",
              "  <thead>\n",
              "    <tr style=\"text-align: right;\">\n",
              "      <th></th>\n",
              "      <th>continent</th>\n",
              "      <th>location</th>\n",
              "      <th>date</th>\n",
              "      <th>population</th>\n",
              "      <th>total_cases</th>\n",
              "      <th>new_cases</th>\n",
              "      <th>total_deaths</th>\n",
              "      <th>new_deaths</th>\n",
              "      <th>total_cases_per_million</th>\n",
              "      <th>new_cases_per_million</th>\n",
              "      <th>total_deaths_per_million</th>\n",
              "      <th>new_deaths_per_million</th>\n",
              "      <th>median_age</th>\n",
              "      <th>aged_65_older</th>\n",
              "      <th>aged_70_older</th>\n",
              "      <th>cardiovasc_death_rate</th>\n",
              "      <th>diabetes_prevalence</th>\n",
              "      <th>handwashing_facilities</th>\n",
              "      <th>hospital_beds_per_thousand</th>\n",
              "    </tr>\n",
              "  </thead>\n",
              "  <tbody>\n",
              "    <tr>\n",
              "      <th>62685</th>\n",
              "      <td>Asia</td>\n",
              "      <td>Northern Cyprus</td>\n",
              "      <td>2021-05-23</td>\n",
              "      <td>nan</td>\n",
              "      <td>nan</td>\n",
              "      <td>nan</td>\n",
              "      <td>nan</td>\n",
              "      <td>nan</td>\n",
              "      <td>nan</td>\n",
              "      <td>nan</td>\n",
              "      <td>nan</td>\n",
              "      <td>nan</td>\n",
              "      <td>nan</td>\n",
              "      <td>nan</td>\n",
              "      <td>nan</td>\n",
              "      <td>nan</td>\n",
              "      <td>nan</td>\n",
              "      <td>nan</td>\n",
              "      <td>nan</td>\n",
              "    </tr>\n",
              "    <tr>\n",
              "      <th>62686</th>\n",
              "      <td>Asia</td>\n",
              "      <td>Northern Cyprus</td>\n",
              "      <td>2021-05-24</td>\n",
              "      <td>nan</td>\n",
              "      <td>nan</td>\n",
              "      <td>nan</td>\n",
              "      <td>nan</td>\n",
              "      <td>nan</td>\n",
              "      <td>nan</td>\n",
              "      <td>nan</td>\n",
              "      <td>nan</td>\n",
              "      <td>nan</td>\n",
              "      <td>nan</td>\n",
              "      <td>nan</td>\n",
              "      <td>nan</td>\n",
              "      <td>nan</td>\n",
              "      <td>nan</td>\n",
              "      <td>nan</td>\n",
              "      <td>nan</td>\n",
              "    </tr>\n",
              "    <tr>\n",
              "      <th>62687</th>\n",
              "      <td>Asia</td>\n",
              "      <td>Northern Cyprus</td>\n",
              "      <td>2021-05-25</td>\n",
              "      <td>nan</td>\n",
              "      <td>nan</td>\n",
              "      <td>nan</td>\n",
              "      <td>nan</td>\n",
              "      <td>nan</td>\n",
              "      <td>nan</td>\n",
              "      <td>nan</td>\n",
              "      <td>nan</td>\n",
              "      <td>nan</td>\n",
              "      <td>nan</td>\n",
              "      <td>nan</td>\n",
              "      <td>nan</td>\n",
              "      <td>nan</td>\n",
              "      <td>nan</td>\n",
              "      <td>nan</td>\n",
              "      <td>nan</td>\n",
              "    </tr>\n",
              "    <tr>\n",
              "      <th>62688</th>\n",
              "      <td>Asia</td>\n",
              "      <td>Northern Cyprus</td>\n",
              "      <td>2021-05-26</td>\n",
              "      <td>nan</td>\n",
              "      <td>nan</td>\n",
              "      <td>nan</td>\n",
              "      <td>nan</td>\n",
              "      <td>nan</td>\n",
              "      <td>nan</td>\n",
              "      <td>nan</td>\n",
              "      <td>nan</td>\n",
              "      <td>nan</td>\n",
              "      <td>nan</td>\n",
              "      <td>nan</td>\n",
              "      <td>nan</td>\n",
              "      <td>nan</td>\n",
              "      <td>nan</td>\n",
              "      <td>nan</td>\n",
              "      <td>nan</td>\n",
              "    </tr>\n",
              "    <tr>\n",
              "      <th>62689</th>\n",
              "      <td>Asia</td>\n",
              "      <td>Northern Cyprus</td>\n",
              "      <td>2021-05-27</td>\n",
              "      <td>nan</td>\n",
              "      <td>nan</td>\n",
              "      <td>nan</td>\n",
              "      <td>nan</td>\n",
              "      <td>nan</td>\n",
              "      <td>nan</td>\n",
              "      <td>nan</td>\n",
              "      <td>nan</td>\n",
              "      <td>nan</td>\n",
              "      <td>nan</td>\n",
              "      <td>nan</td>\n",
              "      <td>nan</td>\n",
              "      <td>nan</td>\n",
              "      <td>nan</td>\n",
              "      <td>nan</td>\n",
              "      <td>nan</td>\n",
              "    </tr>\n",
              "  </tbody>\n",
              "</table>\n",
              "</div>"
            ],
            "text/plain": [
              "      continent  ... hospital_beds_per_thousand\n",
              "62685      Asia  ...                        nan\n",
              "62686      Asia  ...                        nan\n",
              "62687      Asia  ...                        nan\n",
              "62688      Asia  ...                        nan\n",
              "62689      Asia  ...                        nan\n",
              "\n",
              "[5 rows x 19 columns]"
            ]
          },
          "metadata": {
            "tags": []
          },
          "execution_count": 20
        }
      ]
    },
    {
      "cell_type": "markdown",
      "metadata": {
        "id": "s9Gh-zMdKhyf"
      },
      "source": [
        "In general, the country 'Northern Cyprus' don't have relevant information for the analysis. Consequently, it can be removed."
      ]
    },
    {
      "cell_type": "code",
      "metadata": {
        "id": "pgWSFWDtLIHU"
      },
      "source": [
        "country_to_eliminate = covid_infection[(covid_infection['location'] == 'Northern Cyprus')].index\n",
        "covid_infection_modified = covid_infection.drop(index = country_to_eliminate, axis=0)"
      ],
      "execution_count": 21,
      "outputs": []
    },
    {
      "cell_type": "code",
      "metadata": {
        "id": "Kx8jSzEuMhbf"
      },
      "source": [
        "values = {'total_cases': 0}\n",
        "covid_infection_modified.fillna(value=values, inplace= True)"
      ],
      "execution_count": 22,
      "outputs": []
    },
    {
      "cell_type": "code",
      "metadata": {
        "colab": {
          "base_uri": "https://localhost:8080/",
          "height": 225
        },
        "id": "c3sKLRGlMvYY",
        "outputId": "d6e2e61a-a9a6-4e0f-ebe8-a8e372b300ab"
      },
      "source": [
        "covid_infection_modified['percent_population_infected'] = covid_infection_modified.apply(lambda x: x['total_cases']/x['population']*100, axis=1)\n",
        "covid_infection_data = covid_infection_modified.groupby(['location'])[['percent_population_infected']].max().sort_values(by='percent_population_infected', ascending=False)\n",
        "covid_infection_data.head(5)"
      ],
      "execution_count": 23,
      "outputs": [
        {
          "output_type": "execute_result",
          "data": {
            "text/html": [
              "<div>\n",
              "<style scoped>\n",
              "    .dataframe tbody tr th:only-of-type {\n",
              "        vertical-align: middle;\n",
              "    }\n",
              "\n",
              "    .dataframe tbody tr th {\n",
              "        vertical-align: top;\n",
              "    }\n",
              "\n",
              "    .dataframe thead th {\n",
              "        text-align: right;\n",
              "    }\n",
              "</style>\n",
              "<table border=\"1\" class=\"dataframe\">\n",
              "  <thead>\n",
              "    <tr style=\"text-align: right;\">\n",
              "      <th></th>\n",
              "      <th>percent_population_infected</th>\n",
              "    </tr>\n",
              "    <tr>\n",
              "      <th>location</th>\n",
              "      <th></th>\n",
              "    </tr>\n",
              "  </thead>\n",
              "  <tbody>\n",
              "    <tr>\n",
              "      <th>Andorra</th>\n",
              "      <td>17.8</td>\n",
              "    </tr>\n",
              "    <tr>\n",
              "      <th>Montenegro</th>\n",
              "      <td>15.9</td>\n",
              "    </tr>\n",
              "    <tr>\n",
              "      <th>Czechia</th>\n",
              "      <td>15.5</td>\n",
              "    </tr>\n",
              "    <tr>\n",
              "      <th>San Marino</th>\n",
              "      <td>15.0</td>\n",
              "    </tr>\n",
              "    <tr>\n",
              "      <th>Bahrain</th>\n",
              "      <td>14.5</td>\n",
              "    </tr>\n",
              "  </tbody>\n",
              "</table>\n",
              "</div>"
            ],
            "text/plain": [
              "            percent_population_infected\n",
              "location                               \n",
              "Andorra                            17.8\n",
              "Montenegro                         15.9\n",
              "Czechia                            15.5\n",
              "San Marino                         15.0\n",
              "Bahrain                            14.5"
            ]
          },
          "metadata": {
            "tags": []
          },
          "execution_count": 23
        }
      ]
    },
    {
      "cell_type": "code",
      "metadata": {
        "id": "3XWkf1mVwQ0N"
      },
      "source": [
        "covid_infection_data.to_excel('covid_infection_data.xlsx',index=True)"
      ],
      "execution_count": 24,
      "outputs": []
    },
    {
      "cell_type": "markdown",
      "metadata": {
        "id": "aeinn5lhSWQ8"
      },
      "source": [
        "###Covid Deaths"
      ]
    },
    {
      "cell_type": "code",
      "metadata": {
        "colab": {
          "base_uri": "https://localhost:8080/",
          "height": 215
        },
        "id": "mwuqdh2ykAWS",
        "outputId": "4acf4fca-14ea-4d6e-ac64-8c34b2e1bb26"
      },
      "source": [
        "covid_deaths = covid_data_copy.copy(deep=True)\n",
        "global_deaths = covid_deaths[covid_deaths['continent'].isnull()]\n",
        "global_deaths = global_deaths[['location', 'total_cases', 'new_cases','total_deaths','new_deaths','total_cases_per_million','new_cases_per_million','total_deaths_per_million','new_deaths_per_million']]\n",
        "\n",
        "covid_cases[['location','date','total_cases_per_million']]\n",
        "global_deaths.head()"
      ],
      "execution_count": 25,
      "outputs": [
        {
          "output_type": "execute_result",
          "data": {
            "text/html": [
              "<div>\n",
              "<style scoped>\n",
              "    .dataframe tbody tr th:only-of-type {\n",
              "        vertical-align: middle;\n",
              "    }\n",
              "\n",
              "    .dataframe tbody tr th {\n",
              "        vertical-align: top;\n",
              "    }\n",
              "\n",
              "    .dataframe thead th {\n",
              "        text-align: right;\n",
              "    }\n",
              "</style>\n",
              "<table border=\"1\" class=\"dataframe\">\n",
              "  <thead>\n",
              "    <tr style=\"text-align: right;\">\n",
              "      <th></th>\n",
              "      <th>location</th>\n",
              "      <th>total_cases</th>\n",
              "      <th>new_cases</th>\n",
              "      <th>total_deaths</th>\n",
              "      <th>new_deaths</th>\n",
              "      <th>total_cases_per_million</th>\n",
              "      <th>new_cases_per_million</th>\n",
              "      <th>total_deaths_per_million</th>\n",
              "      <th>new_deaths_per_million</th>\n",
              "    </tr>\n",
              "  </thead>\n",
              "  <tbody>\n",
              "    <tr>\n",
              "      <th>466</th>\n",
              "      <td>Africa</td>\n",
              "      <td>nan</td>\n",
              "      <td>0.0</td>\n",
              "      <td>nan</td>\n",
              "      <td>0.0</td>\n",
              "      <td>nan</td>\n",
              "      <td>0.0</td>\n",
              "      <td>nan</td>\n",
              "      <td>0.0</td>\n",
              "    </tr>\n",
              "    <tr>\n",
              "      <th>467</th>\n",
              "      <td>Africa</td>\n",
              "      <td>1.0</td>\n",
              "      <td>1.0</td>\n",
              "      <td>nan</td>\n",
              "      <td>0.0</td>\n",
              "      <td>0.0</td>\n",
              "      <td>0.0</td>\n",
              "      <td>nan</td>\n",
              "      <td>0.0</td>\n",
              "    </tr>\n",
              "    <tr>\n",
              "      <th>468</th>\n",
              "      <td>Africa</td>\n",
              "      <td>1.0</td>\n",
              "      <td>0.0</td>\n",
              "      <td>nan</td>\n",
              "      <td>0.0</td>\n",
              "      <td>0.0</td>\n",
              "      <td>0.0</td>\n",
              "      <td>nan</td>\n",
              "      <td>0.0</td>\n",
              "    </tr>\n",
              "    <tr>\n",
              "      <th>469</th>\n",
              "      <td>Africa</td>\n",
              "      <td>1.0</td>\n",
              "      <td>0.0</td>\n",
              "      <td>nan</td>\n",
              "      <td>0.0</td>\n",
              "      <td>0.0</td>\n",
              "      <td>0.0</td>\n",
              "      <td>nan</td>\n",
              "      <td>0.0</td>\n",
              "    </tr>\n",
              "    <tr>\n",
              "      <th>470</th>\n",
              "      <td>Africa</td>\n",
              "      <td>1.0</td>\n",
              "      <td>0.0</td>\n",
              "      <td>nan</td>\n",
              "      <td>0.0</td>\n",
              "      <td>0.0</td>\n",
              "      <td>0.0</td>\n",
              "      <td>nan</td>\n",
              "      <td>0.0</td>\n",
              "    </tr>\n",
              "  </tbody>\n",
              "</table>\n",
              "</div>"
            ],
            "text/plain": [
              "    location  total_cases  ...  total_deaths_per_million  new_deaths_per_million\n",
              "466   Africa          nan  ...                       nan                     0.0\n",
              "467   Africa          1.0  ...                       nan                     0.0\n",
              "468   Africa          1.0  ...                       nan                     0.0\n",
              "469   Africa          1.0  ...                       nan                     0.0\n",
              "470   Africa          1.0  ...                       nan                     0.0\n",
              "\n",
              "[5 rows x 9 columns]"
            ]
          },
          "metadata": {
            "tags": []
          },
          "execution_count": 25
        }
      ]
    },
    {
      "cell_type": "code",
      "metadata": {
        "colab": {
          "base_uri": "https://localhost:8080/"
        },
        "id": "9yphQIT5tbP7",
        "outputId": "a77e7d1b-0fe5-49fd-9c14-012ff2babd38"
      },
      "source": [
        "global_deaths['location'].unique()"
      ],
      "execution_count": 26,
      "outputs": [
        {
          "output_type": "execute_result",
          "data": {
            "text/plain": [
              "array(['Africa', 'Asia', 'Europe', 'European Union', 'International',\n",
              "       'North America', 'Oceania', 'South America', 'World'], dtype=object)"
            ]
          },
          "metadata": {
            "tags": []
          },
          "execution_count": 26
        }
      ]
    },
    {
      "cell_type": "markdown",
      "metadata": {
        "id": "flnCCZiKtuva"
      },
      "source": [
        "As European Union is part of the Europe and 'World' contains information for all countries, a filter will be created to drop this information from the dataset."
      ]
    },
    {
      "cell_type": "code",
      "metadata": {
        "colab": {
          "base_uri": "https://localhost:8080/"
        },
        "id": "uXN0YsgIQKvN",
        "outputId": "9ae0d2f3-1302-4b11-bdc2-b5f730df0fd7"
      },
      "source": [
        "no_continents = global_deaths.query(\"(location == 'World') | (location == 'European Union') | (location == 'International')\").index\n",
        "global_deaths.drop(index=no_continents, axis=0, inplace= True)\n",
        "global_deaths['location'].unique()"
      ],
      "execution_count": 27,
      "outputs": [
        {
          "output_type": "execute_result",
          "data": {
            "text/plain": [
              "array(['Africa', 'Asia', 'Europe', 'North America', 'Oceania',\n",
              "       'South America'], dtype=object)"
            ]
          },
          "metadata": {
            "tags": []
          },
          "execution_count": 27
        }
      ]
    },
    {
      "cell_type": "code",
      "metadata": {
        "colab": {
          "base_uri": "https://localhost:8080/",
          "height": 506
        },
        "id": "kYEVOsBMVXSy",
        "outputId": "16cb7664-54a2-4491-f763-b98faf169505"
      },
      "source": [
        "global_deaths.fillna(0)"
      ],
      "execution_count": 28,
      "outputs": [
        {
          "output_type": "execute_result",
          "data": {
            "text/html": [
              "<div>\n",
              "<style scoped>\n",
              "    .dataframe tbody tr th:only-of-type {\n",
              "        vertical-align: middle;\n",
              "    }\n",
              "\n",
              "    .dataframe tbody tr th {\n",
              "        vertical-align: top;\n",
              "    }\n",
              "\n",
              "    .dataframe thead th {\n",
              "        text-align: right;\n",
              "    }\n",
              "</style>\n",
              "<table border=\"1\" class=\"dataframe\">\n",
              "  <thead>\n",
              "    <tr style=\"text-align: right;\">\n",
              "      <th></th>\n",
              "      <th>location</th>\n",
              "      <th>total_cases</th>\n",
              "      <th>new_cases</th>\n",
              "      <th>total_deaths</th>\n",
              "      <th>new_deaths</th>\n",
              "      <th>total_cases_per_million</th>\n",
              "      <th>new_cases_per_million</th>\n",
              "      <th>total_deaths_per_million</th>\n",
              "      <th>new_deaths_per_million</th>\n",
              "    </tr>\n",
              "  </thead>\n",
              "  <tbody>\n",
              "    <tr>\n",
              "      <th>466</th>\n",
              "      <td>Africa</td>\n",
              "      <td>0.0</td>\n",
              "      <td>0.0</td>\n",
              "      <td>0.0</td>\n",
              "      <td>0.0</td>\n",
              "      <td>0.0</td>\n",
              "      <td>0.0</td>\n",
              "      <td>0.0</td>\n",
              "      <td>0.0</td>\n",
              "    </tr>\n",
              "    <tr>\n",
              "      <th>467</th>\n",
              "      <td>Africa</td>\n",
              "      <td>1.0</td>\n",
              "      <td>1.0</td>\n",
              "      <td>0.0</td>\n",
              "      <td>0.0</td>\n",
              "      <td>0.0</td>\n",
              "      <td>0.0</td>\n",
              "      <td>0.0</td>\n",
              "      <td>0.0</td>\n",
              "    </tr>\n",
              "    <tr>\n",
              "      <th>468</th>\n",
              "      <td>Africa</td>\n",
              "      <td>1.0</td>\n",
              "      <td>0.0</td>\n",
              "      <td>0.0</td>\n",
              "      <td>0.0</td>\n",
              "      <td>0.0</td>\n",
              "      <td>0.0</td>\n",
              "      <td>0.0</td>\n",
              "      <td>0.0</td>\n",
              "    </tr>\n",
              "    <tr>\n",
              "      <th>469</th>\n",
              "      <td>Africa</td>\n",
              "      <td>1.0</td>\n",
              "      <td>0.0</td>\n",
              "      <td>0.0</td>\n",
              "      <td>0.0</td>\n",
              "      <td>0.0</td>\n",
              "      <td>0.0</td>\n",
              "      <td>0.0</td>\n",
              "      <td>0.0</td>\n",
              "    </tr>\n",
              "    <tr>\n",
              "      <th>470</th>\n",
              "      <td>Africa</td>\n",
              "      <td>1.0</td>\n",
              "      <td>0.0</td>\n",
              "      <td>0.0</td>\n",
              "      <td>0.0</td>\n",
              "      <td>0.0</td>\n",
              "      <td>0.0</td>\n",
              "      <td>0.0</td>\n",
              "      <td>0.0</td>\n",
              "    </tr>\n",
              "    <tr>\n",
              "      <th>...</th>\n",
              "      <td>...</td>\n",
              "      <td>...</td>\n",
              "      <td>...</td>\n",
              "      <td>...</td>\n",
              "      <td>...</td>\n",
              "      <td>...</td>\n",
              "      <td>...</td>\n",
              "      <td>...</td>\n",
              "      <td>...</td>\n",
              "    </tr>\n",
              "    <tr>\n",
              "      <th>78035</th>\n",
              "      <td>South America</td>\n",
              "      <td>28680035.0</td>\n",
              "      <td>102939.0</td>\n",
              "      <td>777433.0</td>\n",
              "      <td>2128.0</td>\n",
              "      <td>66580.1</td>\n",
              "      <td>239.0</td>\n",
              "      <td>1804.8</td>\n",
              "      <td>4.9</td>\n",
              "    </tr>\n",
              "    <tr>\n",
              "      <th>78036</th>\n",
              "      <td>South America</td>\n",
              "      <td>28786883.0</td>\n",
              "      <td>106848.0</td>\n",
              "      <td>780195.0</td>\n",
              "      <td>2762.0</td>\n",
              "      <td>66828.2</td>\n",
              "      <td>248.0</td>\n",
              "      <td>1811.2</td>\n",
              "      <td>6.4</td>\n",
              "    </tr>\n",
              "    <tr>\n",
              "      <th>78037</th>\n",
              "      <td>South America</td>\n",
              "      <td>28945334.0</td>\n",
              "      <td>158451.0</td>\n",
              "      <td>784174.0</td>\n",
              "      <td>3979.0</td>\n",
              "      <td>67196.0</td>\n",
              "      <td>367.8</td>\n",
              "      <td>1820.4</td>\n",
              "      <td>9.2</td>\n",
              "    </tr>\n",
              "    <tr>\n",
              "      <th>78038</th>\n",
              "      <td>South America</td>\n",
              "      <td>29131361.0</td>\n",
              "      <td>186027.0</td>\n",
              "      <td>903750.0</td>\n",
              "      <td>119576.0</td>\n",
              "      <td>67627.9</td>\n",
              "      <td>431.9</td>\n",
              "      <td>2098.0</td>\n",
              "      <td>277.6</td>\n",
              "    </tr>\n",
              "    <tr>\n",
              "      <th>78039</th>\n",
              "      <td>South America</td>\n",
              "      <td>29294950.0</td>\n",
              "      <td>163589.0</td>\n",
              "      <td>907064.0</td>\n",
              "      <td>3314.0</td>\n",
              "      <td>68007.6</td>\n",
              "      <td>379.8</td>\n",
              "      <td>2105.7</td>\n",
              "      <td>7.7</td>\n",
              "    </tr>\n",
              "  </tbody>\n",
              "</table>\n",
              "<p>2937 rows × 9 columns</p>\n",
              "</div>"
            ],
            "text/plain": [
              "            location  ...  new_deaths_per_million\n",
              "466           Africa  ...                     0.0\n",
              "467           Africa  ...                     0.0\n",
              "468           Africa  ...                     0.0\n",
              "469           Africa  ...                     0.0\n",
              "470           Africa  ...                     0.0\n",
              "...              ...  ...                     ...\n",
              "78035  South America  ...                     4.9\n",
              "78036  South America  ...                     6.4\n",
              "78037  South America  ...                     9.2\n",
              "78038  South America  ...                   277.6\n",
              "78039  South America  ...                     7.7\n",
              "\n",
              "[2937 rows x 9 columns]"
            ]
          },
          "metadata": {
            "tags": []
          },
          "execution_count": 28
        }
      ]
    },
    {
      "cell_type": "code",
      "metadata": {
        "colab": {
          "base_uri": "https://localhost:8080/",
          "height": 254
        },
        "id": "mSuf6rjX4P9W",
        "outputId": "9956851d-6a04-4ec5-ecdb-aa77e23d15fd"
      },
      "source": [
        "deaths_by_continent = global_deaths.groupby(['location'])[['new_cases_per_million','new_deaths_per_million']].sum().sort_values(by='new_deaths_per_million', ascending=False)\n",
        "deaths_by_continent.rename(columns={'new_deaths_per_million':'total_deaths_per_million',\n",
        "                                  'new_cases_per_million': 'total_cases_per_million'}, inplace=True)\n",
        "deaths_by_continent"
      ],
      "execution_count": 29,
      "outputs": [
        {
          "output_type": "execute_result",
          "data": {
            "text/html": [
              "<div>\n",
              "<style scoped>\n",
              "    .dataframe tbody tr th:only-of-type {\n",
              "        vertical-align: middle;\n",
              "    }\n",
              "\n",
              "    .dataframe tbody tr th {\n",
              "        vertical-align: top;\n",
              "    }\n",
              "\n",
              "    .dataframe thead th {\n",
              "        text-align: right;\n",
              "    }\n",
              "</style>\n",
              "<table border=\"1\" class=\"dataframe\">\n",
              "  <thead>\n",
              "    <tr style=\"text-align: right;\">\n",
              "      <th></th>\n",
              "      <th>total_cases_per_million</th>\n",
              "      <th>total_deaths_per_million</th>\n",
              "    </tr>\n",
              "    <tr>\n",
              "      <th>location</th>\n",
              "      <th></th>\n",
              "      <th></th>\n",
              "    </tr>\n",
              "  </thead>\n",
              "  <tbody>\n",
              "    <tr>\n",
              "      <th>South America</th>\n",
              "      <td>68007.6</td>\n",
              "      <td>2105.7</td>\n",
              "    </tr>\n",
              "    <tr>\n",
              "      <th>North America</th>\n",
              "      <td>65877.7</td>\n",
              "      <td>1495.1</td>\n",
              "    </tr>\n",
              "    <tr>\n",
              "      <th>Europe</th>\n",
              "      <td>62837.0</td>\n",
              "      <td>1440.3</td>\n",
              "    </tr>\n",
              "    <tr>\n",
              "      <th>Asia</th>\n",
              "      <td>11184.8</td>\n",
              "      <td>150.5</td>\n",
              "    </tr>\n",
              "    <tr>\n",
              "      <th>Africa</th>\n",
              "      <td>3631.0</td>\n",
              "      <td>98.0</td>\n",
              "    </tr>\n",
              "    <tr>\n",
              "      <th>Oceania</th>\n",
              "      <td>1161.7</td>\n",
              "      <td>25.8</td>\n",
              "    </tr>\n",
              "  </tbody>\n",
              "</table>\n",
              "</div>"
            ],
            "text/plain": [
              "               total_cases_per_million  total_deaths_per_million\n",
              "location                                                        \n",
              "South America                  68007.6                    2105.7\n",
              "North America                  65877.7                    1495.1\n",
              "Europe                         62837.0                    1440.3\n",
              "Asia                           11184.8                     150.5\n",
              "Africa                          3631.0                      98.0\n",
              "Oceania                         1161.7                      25.8"
            ]
          },
          "metadata": {
            "tags": []
          },
          "execution_count": 29
        }
      ]
    },
    {
      "cell_type": "code",
      "metadata": {
        "colab": {
          "base_uri": "https://localhost:8080/",
          "height": 522
        },
        "id": "HUgv73JIBYrZ",
        "outputId": "404d9c0f-31be-4530-b27a-b5a85646d4e2"
      },
      "source": [
        "deaths_by_continent.plot(figsize = (10,7), \n",
        "                          kind='bar', \n",
        "                          stacked = True,\n",
        "                          title = 'COVID-19 cases vs deaths per million',\n",
        "                          )\n",
        "plt.xlabel('Continent')\n",
        "plt.show()"
      ],
      "execution_count": 30,
      "outputs": [
        {
          "output_type": "display_data",
          "data": {
            "image/png": "[encoded data removed]",
            "text/plain": [
              "<Figure size 720x504 with 1 Axes>"
            ]
          },
          "metadata": {
            "tags": [],
            "needs_background": "light"
          }
        }
      ]
    },
    {
      "cell_type": "code",
      "metadata": {
        "colab": {
          "base_uri": "https://localhost:8080/",
          "height": 254
        },
        "id": "o_HWUSQPe3ik",
        "outputId": "e467af5b-5759-44f2-d1ab-a57a95277360"
      },
      "source": [
        "deaths_by_continent['case_fatality_rate'] = deaths_by_continent.apply(lambda x: x['total_deaths_per_million']/x['total_cases_per_million']*100, axis=1)\n",
        "case_fatality_rate_by_continent = deaths_by_continent[['case_fatality_rate']]\n",
        "case_fatality_rate_by_continent"
      ],
      "execution_count": 31,
      "outputs": [
        {
          "output_type": "execute_result",
          "data": {
            "text/html": [
              "<div>\n",
              "<style scoped>\n",
              "    .dataframe tbody tr th:only-of-type {\n",
              "        vertical-align: middle;\n",
              "    }\n",
              "\n",
              "    .dataframe tbody tr th {\n",
              "        vertical-align: top;\n",
              "    }\n",
              "\n",
              "    .dataframe thead th {\n",
              "        text-align: right;\n",
              "    }\n",
              "</style>\n",
              "<table border=\"1\" class=\"dataframe\">\n",
              "  <thead>\n",
              "    <tr style=\"text-align: right;\">\n",
              "      <th></th>\n",
              "      <th>case_fatality_rate</th>\n",
              "    </tr>\n",
              "    <tr>\n",
              "      <th>location</th>\n",
              "      <th></th>\n",
              "    </tr>\n",
              "  </thead>\n",
              "  <tbody>\n",
              "    <tr>\n",
              "      <th>South America</th>\n",
              "      <td>3.1</td>\n",
              "    </tr>\n",
              "    <tr>\n",
              "      <th>North America</th>\n",
              "      <td>2.3</td>\n",
              "    </tr>\n",
              "    <tr>\n",
              "      <th>Europe</th>\n",
              "      <td>2.3</td>\n",
              "    </tr>\n",
              "    <tr>\n",
              "      <th>Asia</th>\n",
              "      <td>1.3</td>\n",
              "    </tr>\n",
              "    <tr>\n",
              "      <th>Africa</th>\n",
              "      <td>2.7</td>\n",
              "    </tr>\n",
              "    <tr>\n",
              "      <th>Oceania</th>\n",
              "      <td>2.2</td>\n",
              "    </tr>\n",
              "  </tbody>\n",
              "</table>\n",
              "</div>"
            ],
            "text/plain": [
              "               case_fatality_rate\n",
              "location                         \n",
              "South America                 3.1\n",
              "North America                 2.3\n",
              "Europe                        2.3\n",
              "Asia                          1.3\n",
              "Africa                        2.7\n",
              "Oceania                       2.2"
            ]
          },
          "metadata": {
            "tags": []
          },
          "execution_count": 31
        }
      ]
    },
    {
      "cell_type": "code",
      "metadata": {
        "id": "9yNFgPxNDHN8"
      },
      "source": [
        "deaths_by_continent.to_excel('deaths_by_continent.xlsx',index=True)"
      ],
      "execution_count": 33,
      "outputs": []
    },
    {
      "cell_type": "markdown",
      "metadata": {
        "id": "dQa46FpbMyp4"
      },
      "source": [
        "####Case Fatality Rate Variables"
      ]
    },
    {
      "cell_type": "markdown",
      "metadata": {
        "id": "O-Dd2cV8zdut"
      },
      "source": [
        "The Case Fatality Rate is a measure of the risk of dying if someone is infected with COVID-19. There are many variables that can affect it, such as age and preexisting health conditions. For this case, the following variables will be analyzed:\n",
        "\n",
        "-Median_age                              \n",
        "-Cardiovasc_death_rate        \n",
        "-Diabetes_prevalence          \n",
        "-Handwashing_facilities      \n",
        "-Hospital_beds_per_thousand"
      ]
    },
    {
      "cell_type": "code",
      "metadata": {
        "colab": {
          "base_uri": "https://localhost:8080/"
        },
        "id": "Zohg1ZxQBSNr",
        "outputId": "2dba2c96-b2c5-46c4-ae69-4302e8349c0e"
      },
      "source": [
        "covid_infection.shape"
      ],
      "execution_count": 35,
      "outputs": [
        {
          "output_type": "execute_result",
          "data": {
            "text/plain": [
              "(88909, 19)"
            ]
          },
          "metadata": {
            "tags": []
          },
          "execution_count": 35
        }
      ]
    },
    {
      "cell_type": "code",
      "metadata": {
        "colab": {
          "base_uri": "https://localhost:8080/"
        },
        "id": "nn9LHFcA0tNB",
        "outputId": "7cc0c978-609a-44ce-c7d8-aaaeb50bde19"
      },
      "source": [
        "covid_infection.isnull().sum()"
      ],
      "execution_count": 36,
      "outputs": [
        {
          "output_type": "execute_result",
          "data": {
            "text/plain": [
              "continent                         0\n",
              "location                          0\n",
              "date                              0\n",
              "population                      134\n",
              "total_cases                    2968\n",
              "new_cases                      2974\n",
              "total_deaths                  12740\n",
              "new_deaths                    12741\n",
              "total_cases_per_million        2968\n",
              "new_cases_per_million          2974\n",
              "total_deaths_per_million      12740\n",
              "new_deaths_per_million        12741\n",
              "median_age                     5722\n",
              "aged_65_older                  6666\n",
              "aged_70_older                  6186\n",
              "cardiovasc_death_rate          5323\n",
              "diabetes_prevalence            3333\n",
              "handwashing_facilities        47170\n",
              "hospital_beds_per_thousand    12759\n",
              "dtype: int64"
            ]
          },
          "metadata": {
            "tags": []
          },
          "execution_count": 36
        }
      ]
    },
    {
      "cell_type": "code",
      "metadata": {
        "colab": {
          "base_uri": "https://localhost:8080/"
        },
        "id": "Rn9mAnOmjohK",
        "outputId": "8bd670b5-5f01-44be-9cdd-cd9e1a76b0b3"
      },
      "source": [
        "handwashing_facilities = covid_infection[covid_infection['handwashing_facilities'].isnull()]\n",
        "handwashing_facilities['location'].unique()"
      ],
      "execution_count": 37,
      "outputs": [
        {
          "output_type": "execute_result",
          "data": {
            "text/plain": [
              "array(['Albania', 'Andorra', 'Anguilla', 'Antigua and Barbuda',\n",
              "       'Argentina', 'Aruba', 'Australia', 'Austria', 'Bahamas', 'Bahrain',\n",
              "       'Belarus', 'Belgium', 'Bermuda', 'Bonaire Sint Eustatius and Saba',\n",
              "       'Botswana', 'Brazil', 'British Virgin Islands', 'Brunei',\n",
              "       'Bulgaria', 'Canada', 'Cape Verde', 'Cayman Islands', 'Chile',\n",
              "       'China', 'Cook Islands', 'Croatia', 'Curacao', 'Cyprus', 'Czechia',\n",
              "       'Denmark', 'Djibouti', 'Dominica', 'Eritrea', 'Estonia',\n",
              "       'Faeroe Islands', 'Falkland Islands', 'Fiji', 'Finland', 'France',\n",
              "       'French Polynesia', 'Gabon', 'Georgia', 'Germany', 'Gibraltar',\n",
              "       'Greece', 'Greenland', 'Grenada', 'Guernsey', 'Hong Kong',\n",
              "       'Hungary', 'Iceland', 'Iran', 'Ireland', 'Isle of Man', 'Israel',\n",
              "       'Italy', 'Japan', 'Jersey', 'Jordan', 'Kiribati', 'Kosovo',\n",
              "       'Kuwait', 'Latvia', 'Lebanon', 'Libya', 'Liechtenstein',\n",
              "       'Lithuania', 'Luxembourg', 'Macao', 'Malaysia', 'Malta',\n",
              "       'Mauritius', 'Micronesia (country)', 'Monaco', 'Montenegro',\n",
              "       'Montserrat', 'Morocco', 'Nauru', 'Netherlands', 'New Caledonia',\n",
              "       'New Zealand', 'Nicaragua', 'North Macedonia', 'Northern Cyprus',\n",
              "       'Norway', 'Palestine', 'Panama', 'Papua New Guinea', 'Peru',\n",
              "       'Poland', 'Portugal', 'Qatar', 'Romania', 'Russia', 'Saint Helena',\n",
              "       'Saint Kitts and Nevis', 'Saint Vincent and the Grenadines',\n",
              "       'Samoa', 'San Marino', 'Saudi Arabia', 'Seychelles', 'Singapore',\n",
              "       'Sint Maarten (Dutch part)', 'Slovakia', 'Slovenia', 'South Korea',\n",
              "       'South Sudan', 'Spain', 'Sri Lanka', 'Sweden', 'Switzerland',\n",
              "       'Taiwan', 'Tonga', 'Turkey', 'Turks and Caicos Islands', 'Tuvalu',\n",
              "       'Ukraine', 'United Arab Emirates', 'United Kingdom',\n",
              "       'United States', 'Uruguay', 'Uzbekistan', 'Vatican', 'Venezuela',\n",
              "       'Wallis and Futuna'], dtype=object)"
            ]
          },
          "metadata": {
            "tags": []
          },
          "execution_count": 37
        }
      ]
    },
    {
      "cell_type": "markdown",
      "metadata": {
        "id": "3BoZDYYykpBi"
      },
      "source": [
        "It is observed that more than 50% of the attribute \"handwashing facilities\", contains null data, which does not allow to obtain correct conclusions about its incidence in the Case Fatality Rate. As there is no more information about it, this variable will not be taken into account for the analysis. To replace the other null values, the distribution of the data will be analyzed."
      ]
    },
    {
      "cell_type": "code",
      "metadata": {
        "colab": {
          "base_uri": "https://localhost:8080/",
          "height": 444
        },
        "id": "jUko4BFxaSCE",
        "outputId": "528067d7-24c9-4b6c-d9d7-a2040eeff1d6"
      },
      "source": [
        "covid_infection[['hospital_beds_per_thousand','diabetes_prevalence','cardiovasc_death_rate','median_age']].hist(figsize = (10,7))\n",
        "plt.show()"
      ],
      "execution_count": 38,
      "outputs": [
        {
          "output_type": "display_data",
          "data": {
            "image/png": "[encoded data removed]",
            "text/plain": [
              "<Figure size 720x504 with 4 Axes>"
            ]
          },
          "metadata": {
            "tags": [],
            "needs_background": "light"
          }
        }
      ]
    },
    {
      "cell_type": "markdown",
      "metadata": {
        "id": "5Bf62nNQEaAy"
      },
      "source": [
        "Initially, data distribution is skewed to the right for most of the attributes. Therefore, using the median to replace null values is the best option because of the median is less affected by the presence of biases in the distribution or extreme values. Respect to median age, a more symmetrical distribution is observed and the mean could be used. Although, continents have particular demographic characteristics and it is necessary to make an analysis of the data distribution for each of these."
      ]
    },
    {
      "cell_type": "code",
      "metadata": {
        "id": "AQaMuiyfFv5j"
      },
      "source": [
        "asia = covid_infection[covid_infection['continent'] == 'Asia']\n",
        "africa = covid_infection[covid_infection['continent'] == 'Africa']\n",
        "europe = covid_infection[covid_infection['continent'] == 'Europe']\n",
        "north_america = covid_infection[covid_infection['continent'] == 'North America']\n",
        "south_america = covid_infection[covid_infection['continent'] == 'South America']\n",
        "oceania = covid_infection[covid_infection['continent'] == 'Oceania']\n",
        "\n",
        "continents = [asia, africa, europe, north_america, south_america, oceania]"
      ],
      "execution_count": 39,
      "outputs": []
    },
    {
      "cell_type": "code",
      "metadata": {
        "id": "IQyRofFOJJIh"
      },
      "source": [
        "def dataExploration(atribute_name):\n",
        "  \"\"\"\n",
        "  return a Matplotlib Histogram by each continent in continents list.\n",
        "   \n",
        "  Parameters:\n",
        "  atribute_name: The column name to be represented by a histogram.\"\"\"\n",
        "\n",
        "  for continent in continents:\n",
        "    continent[atribute_name].hist(figsize = (5,3))\n",
        "    plt.xlabel(f'{continent.continent.unique()}')\n",
        "    plt.show()"
      ],
      "execution_count": 41,
      "outputs": []
    },
    {
      "cell_type": "markdown",
      "metadata": {
        "id": "mIUOP6EbGRIP"
      },
      "source": [
        "#####Distribution data by median age"
      ]
    },
    {
      "cell_type": "code",
      "metadata": {
        "colab": {
          "base_uri": "https://localhost:8080/",
          "height": 1000
        },
        "id": "xIN4x5sJKEGS",
        "outputId": "6ab31747-ffd7-42c9-bcab-d7d11caa3aac"
      },
      "source": [
        "dataExploration('median_age')"
      ],
      "execution_count": 42,
      "outputs": [
        {
          "output_type": "display_data",
          "data": {
            "image/png": "[encoded data removed]",
            "text/plain": [
              "<Figure size 360x216 with 1 Axes>"
            ]
          },
          "metadata": {
            "tags": [],
            "needs_background": "light"
          }
        },
        {
          "output_type": "display_data",
          "data": {
            "image/png": "[encoded data removed]",
            "text/plain": [
              "<Figure size 360x216 with 1 Axes>"
            ]
          },
          "metadata": {
            "tags": [],
            "needs_background": "light"
          }
        },
        {
          "output_type": "display_data",
          "data": {
            "image/png": "[encoded data removed]",
            "text/plain": [
              "<Figure size 360x216 with 1 Axes>"
            ]
          },
          "metadata": {
            "tags": [],
            "needs_background": "light"
          }
        },
        {
          "output_type": "display_data",
          "data": {
            "image/png": "[encoded data removed]",
            "text/plain": [
              "<Figure size 360x216 with 1 Axes>"
            ]
          },
          "metadata": {
            "tags": [],
            "needs_background": "light"
          }
        },
        {
          "output_type": "display_data",
          "data": {
            "image/png": "[encoded data removed]",
            "text/plain": [
              "<Figure size 360x216 with 1 Axes>"
            ]
          },
          "metadata": {
            "tags": [],
            "needs_background": "light"
          }
        },
        {
          "output_type": "display_data",
          "data": {
            "image/png": "[encoded data removed]",
            "text/plain": [
              "<Figure size 360x216 with 1 Axes>"
            ]
          },
          "metadata": {
            "tags": [],
            "needs_background": "light"
          }
        }
      ]
    },
    {
      "cell_type": "markdown",
      "metadata": {
        "id": "M0Liut2NGdPi"
      },
      "source": [
        "#####Distribution data by cardiovascular death rate"
      ]
    },
    {
      "cell_type": "code",
      "metadata": {
        "colab": {
          "base_uri": "https://localhost:8080/",
          "height": 1000
        },
        "id": "B1JMeYp0qg8y",
        "outputId": "f061b88a-0c00-42ab-a1c8-6123aee6e35a"
      },
      "source": [
        "dataExploration('cardiovasc_death_rate')"
      ],
      "execution_count": 43,
      "outputs": [
        {
          "output_type": "display_data",
          "data": {
            "image/png": "[encoded data removed]",
            "text/plain": [
              "<Figure size 360x216 with 1 Axes>"
            ]
          },
          "metadata": {
            "tags": [],
            "needs_background": "light"
          }
        },
        {
          "output_type": "display_data",
          "data": {
            "image/png": "[encoded data removed]",
            "text/plain": [
              "<Figure size 360x216 with 1 Axes>"
            ]
          },
          "metadata": {
            "tags": [],
            "needs_background": "light"
          }
        },
        {
          "output_type": "display_data",
          "data": {
            "image/png": "[encoded data removed]",
            "text/plain": [
              "<Figure size 360x216 with 1 Axes>"
            ]
          },
          "metadata": {
            "tags": [],
            "needs_background": "light"
          }
        },
        {
          "output_type": "display_data",
          "data": {
            "image/png": "[encoded data removed]",
            "text/plain": [
              "<Figure size 360x216 with 1 Axes>"
            ]
          },
          "metadata": {
            "tags": [],
            "needs_background": "light"
          }
        },
        {
          "output_type": "display_data",
          "data": {
            "image/png": "[encoded data removed]",
            "text/plain": [
              "<Figure size 360x216 with 1 Axes>"
            ]
          },
          "metadata": {
            "tags": [],
            "needs_background": "light"
          }
        },
        {
          "output_type": "display_data",
          "data": {
            "image/png": "[encoded data removed]",
            "text/plain": [
              "<Figure size 360x216 with 1 Axes>"
            ]
          },
          "metadata": {
            "tags": [],
            "needs_background": "light"
          }
        }
      ]
    },
    {
      "cell_type": "markdown",
      "metadata": {
        "id": "7yaha56PIGK1"
      },
      "source": [
        "#####Distribution data by diabetes prevalence"
      ]
    },
    {
      "cell_type": "code",
      "metadata": {
        "colab": {
          "base_uri": "https://localhost:8080/",
          "height": 1000
        },
        "id": "T3YqTst-IP_h",
        "outputId": "5116cbe8-756f-4c01-f7fd-73e8ed8e367e"
      },
      "source": [
        "dataExploration('diabetes_prevalence')"
      ],
      "execution_count": 44,
      "outputs": [
        {
          "output_type": "display_data",
          "data": {
            "image/png": "[encoded data removed]",
            "text/plain": [
              "<Figure size 360x216 with 1 Axes>"
            ]
          },
          "metadata": {
            "tags": [],
            "needs_background": "light"
          }
        },
        {
          "output_type": "display_data",
          "data": {
            "image/png": "[encoded data removed]",
            "text/plain": [
              "<Figure size 360x216 with 1 Axes>"
            ]
          },
          "metadata": {
            "tags": [],
            "needs_background": "light"
          }
        },
        {
          "output_type": "display_data",
          "data": {
            "image/png": "[encoded data removed]",
            "text/plain": [
              "<Figure size 360x216 with 1 Axes>"
            ]
          },
          "metadata": {
            "tags": [],
            "needs_background": "light"
          }
        },
        {
          "output_type": "display_data",
          "data": {
            "image/png": "[encoded data removed]",
            "text/plain": [
              "<Figure size 360x216 with 1 Axes>"
            ]
          },
          "metadata": {
            "tags": [],
            "needs_background": "light"
          }
        },
        {
          "output_type": "display_data",
          "data": {
            "image/png": "[encoded data removed]",
            "text/plain": [
              "<Figure size 360x216 with 1 Axes>"
            ]
          },
          "metadata": {
            "tags": [],
            "needs_background": "light"
          }
        },
        {
          "output_type": "display_data",
          "data": {
            "image/png": "[encoded data removed]",
            "text/plain": [
              "<Figure size 360x216 with 1 Axes>"
            ]
          },
          "metadata": {
            "tags": [],
            "needs_background": "light"
          }
        }
      ]
    },
    {
      "cell_type": "markdown",
      "metadata": {
        "id": "OdEHj_pVIpfi"
      },
      "source": [
        "#####Distribution data by hospital beds"
      ]
    },
    {
      "cell_type": "code",
      "metadata": {
        "colab": {
          "base_uri": "https://localhost:8080/",
          "height": 1000
        },
        "id": "fzTE-gHNIzSv",
        "outputId": "4e78ca89-4eaa-4755-83d2-bbeae5bfb7ca"
      },
      "source": [
        "dataExploration('hospital_beds_per_thousand')"
      ],
      "execution_count": 45,
      "outputs": [
        {
          "output_type": "display_data",
          "data": {
            "image/png": "[encoded data removed]",
            "text/plain": [
              "<Figure size 360x216 with 1 Axes>"
            ]
          },
          "metadata": {
            "tags": [],
            "needs_background": "light"
          }
        },
        {
          "output_type": "display_data",
          "data": {
            "image/png": "[encoded data removed]",
            "text/plain": [
              "<Figure size 360x216 with 1 Axes>"
            ]
          },
          "metadata": {
            "tags": [],
            "needs_background": "light"
          }
        },
        {
          "output_type": "display_data",
          "data": {
            "image/png": "[encoded data removed]",
            "text/plain": [
              "<Figure size 360x216 with 1 Axes>"
            ]
          },
          "metadata": {
            "tags": [],
            "needs_background": "light"
          }
        },
        {
          "output_type": "display_data",
          "data": {
            "image/png": "[encoded data removed]",
            "text/plain": [
              "<Figure size 360x216 with 1 Axes>"
            ]
          },
          "metadata": {
            "tags": [],
            "needs_background": "light"
          }
        },
        {
          "output_type": "display_data",
          "data": {
            "image/png": "[encoded data removed]",
            "text/plain": [
              "<Figure size 360x216 with 1 Axes>"
            ]
          },
          "metadata": {
            "tags": [],
            "needs_background": "light"
          }
        },
        {
          "output_type": "display_data",
          "data": {
            "image/png": "[encoded data removed]",
            "text/plain": [
              "<Figure size 360x216 with 1 Axes>"
            ]
          },
          "metadata": {
            "tags": [],
            "needs_background": "light"
          }
        }
      ]
    },
    {
      "cell_type": "markdown",
      "metadata": {
        "id": "FT6MZLkcE5pg"
      },
      "source": [
        "#####Case Fatality Rate Analysis"
      ]
    },
    {
      "cell_type": "markdown",
      "metadata": {
        "id": "UTxJB0bQG2lu"
      },
      "source": [
        "After analyzing the distribution of the data, we can observe the following:\n",
        "\n",
        "-The oldest median age population is found in Europe, where the data is concentrated between the ages of 37 and 48 approximately. On the other hand, the median age population in Africa is concentrated between the ages of 15 and 25 approximately.\n",
        "\n",
        "-Data distribution of death rate from cardiovascular disease (annual number of deaths per 100,000 people) is skewed to the right, except Oceanía, where the most of the data are in 100 deaths per 100,000 people and 500 deaths per 100,000 people, approximately.\n",
        "\n",
        "-Data distribution according to Diabetes prevalence attribute (% of population aged 20 to 79) is concentrated between 6% and 14% for North America, 4% and 10% for Europe, 1% and 8% for Africa approximately. In contrast, for South America the data is concentrated between 5% and 9%, and 11% to 12% for some countries. Additionally, some countries of Oceania have the highest diabetes prevalence, with 30% of population.\n",
        "\n",
        "-In relation to hospital beds per 1,000 people, data distribution is skewed to the right. Europe and Oceania are the continents with the highest number of hospital beds and, for our analysis, this may be one of the variables with the greatest influence on the Case Fatality Rate (CFR).\n",
        "\n",
        "-Finally, according with the previous analysis, the median is the best way to replace the null values, due to is lower affect by the atypical values."
      ]
    },
    {
      "cell_type": "code",
      "metadata": {
        "id": "EOCDQntTghja"
      },
      "source": [
        "for continent in continents:\n",
        "  continent.fillna(continent.median(), inplace=True)"
      ],
      "execution_count": null,
      "outputs": []
    },
    {
      "cell_type": "code",
      "metadata": {
        "colab": {
          "base_uri": "https://localhost:8080/",
          "height": 590
        },
        "id": "ZR8AiNqmjMW0",
        "outputId": "3550a695-c3ab-4432-a50b-05a3acedb49f"
      },
      "source": [
        "covid_mod = pd.concat([asia, africa, europe, north_america, south_america, oceania])\n",
        "covid_mod"
      ],
      "execution_count": 48,
      "outputs": [
        {
          "output_type": "execute_result",
          "data": {
            "text/html": [
              "<div>\n",
              "<style scoped>\n",
              "    .dataframe tbody tr th:only-of-type {\n",
              "        vertical-align: middle;\n",
              "    }\n",
              "\n",
              "    .dataframe tbody tr th {\n",
              "        vertical-align: top;\n",
              "    }\n",
              "\n",
              "    .dataframe thead th {\n",
              "        text-align: right;\n",
              "    }\n",
              "</style>\n",
              "<table border=\"1\" class=\"dataframe\">\n",
              "  <thead>\n",
              "    <tr style=\"text-align: right;\">\n",
              "      <th></th>\n",
              "      <th>continent</th>\n",
              "      <th>location</th>\n",
              "      <th>date</th>\n",
              "      <th>population</th>\n",
              "      <th>total_cases</th>\n",
              "      <th>new_cases</th>\n",
              "      <th>total_deaths</th>\n",
              "      <th>new_deaths</th>\n",
              "      <th>total_cases_per_million</th>\n",
              "      <th>new_cases_per_million</th>\n",
              "      <th>total_deaths_per_million</th>\n",
              "      <th>new_deaths_per_million</th>\n",
              "      <th>median_age</th>\n",
              "      <th>aged_65_older</th>\n",
              "      <th>aged_70_older</th>\n",
              "      <th>cardiovasc_death_rate</th>\n",
              "      <th>diabetes_prevalence</th>\n",
              "      <th>handwashing_facilities</th>\n",
              "      <th>hospital_beds_per_thousand</th>\n",
              "    </tr>\n",
              "  </thead>\n",
              "  <tbody>\n",
              "    <tr>\n",
              "      <th>0</th>\n",
              "      <td>Asia</td>\n",
              "      <td>Afghanistan</td>\n",
              "      <td>2020-02-24</td>\n",
              "      <td>38928341.0</td>\n",
              "      <td>1.0</td>\n",
              "      <td>1.0</td>\n",
              "      <td>582.0</td>\n",
              "      <td>3.0</td>\n",
              "      <td>0.0</td>\n",
              "      <td>0.0</td>\n",
              "      <td>27.1</td>\n",
              "      <td>0.1</td>\n",
              "      <td>18.6</td>\n",
              "      <td>2.6</td>\n",
              "      <td>1.3</td>\n",
              "      <td>597.0</td>\n",
              "      <td>9.6</td>\n",
              "      <td>37.7</td>\n",
              "      <td>0.5</td>\n",
              "    </tr>\n",
              "    <tr>\n",
              "      <th>1</th>\n",
              "      <td>Asia</td>\n",
              "      <td>Afghanistan</td>\n",
              "      <td>2020-02-25</td>\n",
              "      <td>38928341.0</td>\n",
              "      <td>1.0</td>\n",
              "      <td>0.0</td>\n",
              "      <td>582.0</td>\n",
              "      <td>3.0</td>\n",
              "      <td>0.0</td>\n",
              "      <td>0.0</td>\n",
              "      <td>27.1</td>\n",
              "      <td>0.1</td>\n",
              "      <td>18.6</td>\n",
              "      <td>2.6</td>\n",
              "      <td>1.3</td>\n",
              "      <td>597.0</td>\n",
              "      <td>9.6</td>\n",
              "      <td>37.7</td>\n",
              "      <td>0.5</td>\n",
              "    </tr>\n",
              "    <tr>\n",
              "      <th>2</th>\n",
              "      <td>Asia</td>\n",
              "      <td>Afghanistan</td>\n",
              "      <td>2020-02-26</td>\n",
              "      <td>38928341.0</td>\n",
              "      <td>1.0</td>\n",
              "      <td>0.0</td>\n",
              "      <td>582.0</td>\n",
              "      <td>3.0</td>\n",
              "      <td>0.0</td>\n",
              "      <td>0.0</td>\n",
              "      <td>27.1</td>\n",
              "      <td>0.1</td>\n",
              "      <td>18.6</td>\n",
              "      <td>2.6</td>\n",
              "      <td>1.3</td>\n",
              "      <td>597.0</td>\n",
              "      <td>9.6</td>\n",
              "      <td>37.7</td>\n",
              "      <td>0.5</td>\n",
              "    </tr>\n",
              "    <tr>\n",
              "      <th>3</th>\n",
              "      <td>Asia</td>\n",
              "      <td>Afghanistan</td>\n",
              "      <td>2020-02-27</td>\n",
              "      <td>38928341.0</td>\n",
              "      <td>1.0</td>\n",
              "      <td>0.0</td>\n",
              "      <td>582.0</td>\n",
              "      <td>3.0</td>\n",
              "      <td>0.0</td>\n",
              "      <td>0.0</td>\n",
              "      <td>27.1</td>\n",
              "      <td>0.1</td>\n",
              "      <td>18.6</td>\n",
              "      <td>2.6</td>\n",
              "      <td>1.3</td>\n",
              "      <td>597.0</td>\n",
              "      <td>9.6</td>\n",
              "      <td>37.7</td>\n",
              "      <td>0.5</td>\n",
              "    </tr>\n",
              "    <tr>\n",
              "      <th>4</th>\n",
              "      <td>Asia</td>\n",
              "      <td>Afghanistan</td>\n",
              "      <td>2020-02-28</td>\n",
              "      <td>38928341.0</td>\n",
              "      <td>1.0</td>\n",
              "      <td>0.0</td>\n",
              "      <td>582.0</td>\n",
              "      <td>3.0</td>\n",
              "      <td>0.0</td>\n",
              "      <td>0.0</td>\n",
              "      <td>27.1</td>\n",
              "      <td>0.1</td>\n",
              "      <td>18.6</td>\n",
              "      <td>2.6</td>\n",
              "      <td>1.3</td>\n",
              "      <td>597.0</td>\n",
              "      <td>9.6</td>\n",
              "      <td>37.7</td>\n",
              "      <td>0.5</td>\n",
              "    </tr>\n",
              "    <tr>\n",
              "      <th>...</th>\n",
              "      <td>...</td>\n",
              "      <td>...</td>\n",
              "      <td>...</td>\n",
              "      <td>...</td>\n",
              "      <td>...</td>\n",
              "      <td>...</td>\n",
              "      <td>...</td>\n",
              "      <td>...</td>\n",
              "      <td>...</td>\n",
              "      <td>...</td>\n",
              "      <td>...</td>\n",
              "      <td>...</td>\n",
              "      <td>...</td>\n",
              "      <td>...</td>\n",
              "      <td>...</td>\n",
              "      <td>...</td>\n",
              "      <td>...</td>\n",
              "      <td>...</td>\n",
              "      <td>...</td>\n",
              "    </tr>\n",
              "    <tr>\n",
              "      <th>91518</th>\n",
              "      <td>Oceania</td>\n",
              "      <td>Wallis and Futuna</td>\n",
              "      <td>2021-05-28</td>\n",
              "      <td>11246.0</td>\n",
              "      <td>34.0</td>\n",
              "      <td>0.0</td>\n",
              "      <td>24.0</td>\n",
              "      <td>0.0</td>\n",
              "      <td>62.5</td>\n",
              "      <td>0.0</td>\n",
              "      <td>4.5</td>\n",
              "      <td>0.0</td>\n",
              "      <td>28.6</td>\n",
              "      <td>6.2</td>\n",
              "      <td>3.3</td>\n",
              "      <td>412.8</td>\n",
              "      <td>14.5</td>\n",
              "      <td>35.9</td>\n",
              "      <td>2.6</td>\n",
              "    </tr>\n",
              "    <tr>\n",
              "      <th>91519</th>\n",
              "      <td>Oceania</td>\n",
              "      <td>Wallis and Futuna</td>\n",
              "      <td>2021-05-29</td>\n",
              "      <td>11246.0</td>\n",
              "      <td>34.0</td>\n",
              "      <td>0.0</td>\n",
              "      <td>24.0</td>\n",
              "      <td>0.0</td>\n",
              "      <td>62.5</td>\n",
              "      <td>0.0</td>\n",
              "      <td>4.5</td>\n",
              "      <td>0.0</td>\n",
              "      <td>28.6</td>\n",
              "      <td>6.2</td>\n",
              "      <td>3.3</td>\n",
              "      <td>412.8</td>\n",
              "      <td>14.5</td>\n",
              "      <td>35.9</td>\n",
              "      <td>2.6</td>\n",
              "    </tr>\n",
              "    <tr>\n",
              "      <th>91520</th>\n",
              "      <td>Oceania</td>\n",
              "      <td>Wallis and Futuna</td>\n",
              "      <td>2021-05-30</td>\n",
              "      <td>11246.0</td>\n",
              "      <td>34.0</td>\n",
              "      <td>0.0</td>\n",
              "      <td>24.0</td>\n",
              "      <td>0.0</td>\n",
              "      <td>62.5</td>\n",
              "      <td>0.0</td>\n",
              "      <td>4.5</td>\n",
              "      <td>0.0</td>\n",
              "      <td>28.6</td>\n",
              "      <td>6.2</td>\n",
              "      <td>3.3</td>\n",
              "      <td>412.8</td>\n",
              "      <td>14.5</td>\n",
              "      <td>35.9</td>\n",
              "      <td>2.6</td>\n",
              "    </tr>\n",
              "    <tr>\n",
              "      <th>91521</th>\n",
              "      <td>Oceania</td>\n",
              "      <td>Wallis and Futuna</td>\n",
              "      <td>2021-05-31</td>\n",
              "      <td>11246.0</td>\n",
              "      <td>34.0</td>\n",
              "      <td>0.0</td>\n",
              "      <td>24.0</td>\n",
              "      <td>0.0</td>\n",
              "      <td>62.5</td>\n",
              "      <td>0.0</td>\n",
              "      <td>4.5</td>\n",
              "      <td>0.0</td>\n",
              "      <td>28.6</td>\n",
              "      <td>6.2</td>\n",
              "      <td>3.3</td>\n",
              "      <td>412.8</td>\n",
              "      <td>14.5</td>\n",
              "      <td>35.9</td>\n",
              "      <td>2.6</td>\n",
              "    </tr>\n",
              "    <tr>\n",
              "      <th>91522</th>\n",
              "      <td>Oceania</td>\n",
              "      <td>Wallis and Futuna</td>\n",
              "      <td>2021-06-01</td>\n",
              "      <td>11246.0</td>\n",
              "      <td>34.0</td>\n",
              "      <td>0.0</td>\n",
              "      <td>24.0</td>\n",
              "      <td>0.0</td>\n",
              "      <td>62.5</td>\n",
              "      <td>0.0</td>\n",
              "      <td>4.5</td>\n",
              "      <td>0.0</td>\n",
              "      <td>28.6</td>\n",
              "      <td>6.2</td>\n",
              "      <td>3.3</td>\n",
              "      <td>412.8</td>\n",
              "      <td>14.5</td>\n",
              "      <td>35.9</td>\n",
              "      <td>2.6</td>\n",
              "    </tr>\n",
              "  </tbody>\n",
              "</table>\n",
              "<p>88909 rows × 19 columns</p>\n",
              "</div>"
            ],
            "text/plain": [
              "      continent  ... hospital_beds_per_thousand\n",
              "0          Asia  ...                        0.5\n",
              "1          Asia  ...                        0.5\n",
              "2          Asia  ...                        0.5\n",
              "3          Asia  ...                        0.5\n",
              "4          Asia  ...                        0.5\n",
              "...         ...  ...                        ...\n",
              "91518   Oceania  ...                        2.6\n",
              "91519   Oceania  ...                        2.6\n",
              "91520   Oceania  ...                        2.6\n",
              "91521   Oceania  ...                        2.6\n",
              "91522   Oceania  ...                        2.6\n",
              "\n",
              "[88909 rows x 19 columns]"
            ]
          },
          "metadata": {
            "tags": []
          },
          "execution_count": 48
        }
      ]
    },
    {
      "cell_type": "code",
      "metadata": {
        "colab": {
          "base_uri": "https://localhost:8080/",
          "height": 254
        },
        "id": "Fech4QeMtqf_",
        "outputId": "f3ad11a4-40d8-497e-b7d3-f4a0976b9ca7"
      },
      "source": [
        "cfr_variables = covid_mod.groupby(['continent'])[['median_age','hospital_beds_per_thousand','cardiovasc_death_rate','diabetes_prevalence']].median().sort_values(by='hospital_beds_per_thousand', ascending=False)\n",
        "cfr_variables"
      ],
      "execution_count": 53,
      "outputs": [
        {
          "output_type": "execute_result",
          "data": {
            "text/html": [
              "<div>\n",
              "<style scoped>\n",
              "    .dataframe tbody tr th:only-of-type {\n",
              "        vertical-align: middle;\n",
              "    }\n",
              "\n",
              "    .dataframe tbody tr th {\n",
              "        vertical-align: top;\n",
              "    }\n",
              "\n",
              "    .dataframe thead th {\n",
              "        text-align: right;\n",
              "    }\n",
              "</style>\n",
              "<table border=\"1\" class=\"dataframe\">\n",
              "  <thead>\n",
              "    <tr style=\"text-align: right;\">\n",
              "      <th></th>\n",
              "      <th>median_age</th>\n",
              "      <th>hospital_beds_per_thousand</th>\n",
              "      <th>cardiovasc_death_rate</th>\n",
              "      <th>diabetes_prevalence</th>\n",
              "    </tr>\n",
              "    <tr>\n",
              "      <th>continent</th>\n",
              "      <th></th>\n",
              "      <th></th>\n",
              "      <th></th>\n",
              "      <th></th>\n",
              "    </tr>\n",
              "  </thead>\n",
              "  <tbody>\n",
              "    <tr>\n",
              "      <th>Europe</th>\n",
              "      <td>42.4</td>\n",
              "      <td>4.5</td>\n",
              "      <td>168.7</td>\n",
              "      <td>5.8</td>\n",
              "    </tr>\n",
              "    <tr>\n",
              "      <th>Oceania</th>\n",
              "      <td>28.6</td>\n",
              "      <td>2.6</td>\n",
              "      <td>412.8</td>\n",
              "      <td>14.5</td>\n",
              "    </tr>\n",
              "    <tr>\n",
              "      <th>North America</th>\n",
              "      <td>31.4</td>\n",
              "      <td>2.3</td>\n",
              "      <td>191.0</td>\n",
              "      <td>11.0</td>\n",
              "    </tr>\n",
              "    <tr>\n",
              "      <th>Asia</th>\n",
              "      <td>30.6</td>\n",
              "      <td>2.0</td>\n",
              "      <td>265.9</td>\n",
              "      <td>8.3</td>\n",
              "    </tr>\n",
              "    <tr>\n",
              "      <th>South America</th>\n",
              "      <td>29.6</td>\n",
              "      <td>1.7</td>\n",
              "      <td>178.0</td>\n",
              "      <td>6.9</td>\n",
              "    </tr>\n",
              "    <tr>\n",
              "      <th>Africa</th>\n",
              "      <td>19.4</td>\n",
              "      <td>1.3</td>\n",
              "      <td>276.0</td>\n",
              "      <td>4.8</td>\n",
              "    </tr>\n",
              "  </tbody>\n",
              "</table>\n",
              "</div>"
            ],
            "text/plain": [
              "               median_age  ...  diabetes_prevalence\n",
              "continent                  ...                     \n",
              "Europe               42.4  ...                  5.8\n",
              "Oceania              28.6  ...                 14.5\n",
              "North America        31.4  ...                 11.0\n",
              "Asia                 30.6  ...                  8.3\n",
              "South America        29.6  ...                  6.9\n",
              "Africa               19.4  ...                  4.8\n",
              "\n",
              "[6 rows x 4 columns]"
            ]
          },
          "metadata": {
            "tags": []
          },
          "execution_count": 53
        }
      ]
    },
    {
      "cell_type": "code",
      "metadata": {
        "id": "WXrl5eaZvuoX"
      },
      "source": [
        "cfr_variables.to_excel('cfr_variables.xlsx',index=True)"
      ],
      "execution_count": 54,
      "outputs": []
    }
  ]
}